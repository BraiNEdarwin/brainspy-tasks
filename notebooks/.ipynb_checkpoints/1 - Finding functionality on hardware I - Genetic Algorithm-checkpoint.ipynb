{
 "cells": [
  {
   "cell_type": "markdown",
   "id": "7f503656",
   "metadata": {},
   "source": [
    "# Example: Finding functionality on hardware (Part I) - Genetic Algorithm"
   ]
  },
  {
   "cell_type": "markdown",
   "id": "bc96bbd3",
   "metadata": {},
   "source": [
    "This notebook covers an example on how to find functionality on-chip for a single DNPU device. This can be one of the first steps one can take to check whether if a device has potential to be a working device or not. \n",
    "\n",
    "\n",
    "**Prerequisites:**\n",
    "- You have a device dipped in one of the National Instruments setups- You have successfully installed brains-py and brains-py tasks\n",
    "- You have completed a previous exercise for determin adequate voltage ranges using iv-curves with brainspy-smg, or you already have the activation electrode ranges that work for the device. For this exercise we will assume, an operating range of activation electrodes of:   [\n",
    "    [-0.55, 0.325],\n",
    "    [-0.95, 0.55],\n",
    "    [-1.0, 0.6],\n",
    "    [-1.0, 0.6],\n",
    "    [-1.0, 0.6],\n",
    "    [-0.95, 0.55],\n",
    "    [-0.55, 0.325],\n",
    "  ] \n",
    "- You know which are the optimal data-input and control electrodes for this exercise. For this exercise we will use e1 and e2 as data-input electrodes, and e0, e3-e6 as control electrodes.\n",
    "\n",
    "\n",
    "\n",
    "    \n",
    "    "
   ]
  },
  {
   "cell_type": "markdown",
   "id": "9b3380f5",
   "metadata": {},
   "source": [
    "**Read this carefully before starting with the notebook**\n",
    "\n",
    "This notebook has created to be run on BRAINS computer. The computer should be connected to the National Instruments setup consisting of a chassis and several modules. The setup should be connected to a hardware device. If you have this or a similar setup to the one just mentioned, you should run the cells that mention: \"# HARDWARE_MODE\" on top of them, while avoiding to run cells that mention \"# SIMULATION_MODE\" on them. If you not running this test in a BRAINS computer, you should change the configurations according to how your national instruments are connected. The names of the national instruments modules can be checked on the NI MAX tool. The following values should at least be updated when in a new computer with different modules (you can jump directly to the following cell):\n",
    "\n",
    "* \"trigger_source\": \"cDAQ1/segment1\", # This particular one makes reference to the NI Chassis allocated at cDAQ1, and the trigger source segment1. Find the different triggers you can use with your own NI module in the NI MAX tools. \n",
    "* \"activation_instrument\": \"cDAQ1Mod3\", # This refers to the module of the chassis that will be used for sending inputs to the device, in this case Mod3\n",
    "* \"activation channels\": [0,1,2,3,4,5,6], # Typically the 7 activation electrode inputs, as connected to the national instruments setup \n",
    "* \"readout_instrument\": \"cDAQ1Mod4\", # This refers to the module of the chassis that will be used for readoung outputs from the device, in this case Mod4\n",
    "* \"readout_channels\": [0] # Typically the single readout electrode of the device\n",
    "\n",
    "You do NOT have access to the computers that have the National Instruments and devices connected?\n",
    "\n",
    "If you do not have access to such a setup, but you are curious about how the code works, you should run the cells that mention: \"# SIMULATION_MODE\" on top of them, while avoiding to run cells that mention \"# HARDWARE\" on them. This will upload a processor in simulation_debug mode. For such a task, you would need to ask for a working surrogate model, that contains information from one of our devices, and it typically is named as training_data.pt. If you do not have one, you can request one to Professor Dr. Ir. Wilfred van der Wiel at  w.g.vanderwiel@utwente.nl . Note, that this **only has to be done if you do NOT have access to a computer with National Instruments and a device connected**. "
   ]
  },
  {
   "cell_type": "code",
   "execution_count": 41,
   "id": "d2d62a86",
   "metadata": {},
   "outputs": [],
   "source": [
    "# HARDWARE_MODE\n",
    "TRIGGER_SOURCE = 'cDAQ2'\n",
    "ACTIVATION_INSTRUMENT = 'cDAQ2Mod3'\n",
    "ACTIVATION_CHANNELS = [14, 7, 13, 8, 10, 11, 12] #[0,2,5,3,1,6,4]\n",
    "READOUT_INSTRUMENT = 'cDAQ2Mod8'\n",
    "READOUT_CHANNELS = [2]"
   ]
  },
  {
   "cell_type": "code",
   "execution_count": 42,
   "id": "ac064930",
   "metadata": {},
   "outputs": [],
   "source": [
    "# HARDWARE_MODE\n",
    "info = None\n",
    "model_state_dict = None"
   ]
  },
  {
   "cell_type": "code",
   "execution_count": 43,
   "id": "4ea5962f",
   "metadata": {},
   "outputs": [],
   "source": [
    "import os\n",
    "import torch\n",
    "import matplotlib.pyplot as plt\n",
    "from IPython.display import Image"
   ]
  },
  {
   "cell_type": "markdown",
   "id": "91f4354a",
   "metadata": {},
   "source": [
    "## 1. Theory"
   ]
  },
  {
   "cell_type": "markdown",
   "id": "8fba408a",
   "metadata": {},
   "source": [
    "### 1.1 Electrode types in a DNPU"
   ]
  },
  {
   "cell_type": "markdown",
   "id": "01f69e63",
   "metadata": {},
   "source": [
    "- Activation electrodes: These electrodes receive input voltages (V) that will be used to obtain a non-linear output. The input range for these electrodes typically ranges from -1.2 to 0.7. Outside these outputs the resulting output signal can become noisy [1]. In the image below, activation electrodes range from e0 to e6. These electrodes can be of two types:\n",
    "    - Data input electrodes: The data from a particular task that wants to be resolved. For example, if the intention was to make the DNPU behave as an XOR boolean gate, two data input electrodes could be used for receiving the combination of all possible input signals (00, 01, 10, and 11) [1]. In the image below, data input electrodes are e2 and e1.\n",
    "    - Control electrodes: The electrodes that will be used in order to control that the output signals behaves as desired when trying to resolve a particular task. For example, if the intention was to make the DNPU behave as an XOR boolean gate, these electrodes would control the output signal in such a way that it exhibits the outputs 0, 1, 1, 0, for each of the inputs 00, 01, 10, and 11 respectively. In the image below, control electrodes are e0, e3, e4, e5, and e6.\n",
    "- Readout electrodes: The resulting current (in nA) is measured using these electrodes. In the image below, the readout electrode is e_out"
   ]
  },
  {
   "cell_type": "markdown",
   "id": "912b3084",
   "metadata": {},
   "source": [
    "### 1.2 The boolean gates task"
   ]
  },
  {
   "cell_type": "markdown",
   "id": "0637bf18",
   "metadata": {},
   "source": [
    "In this exercise, we use the tunability properties of single DNPU in hardware, make the DNPU behave as a given boolean gate. Particularly, the XOR gate will be used, for its non-linearity. \n",
    "\n",
    "We select two electrodes as data-input electrodes, in this case, electrodes e1 and e2, as represented in the image below. Electrodes e0, e3-e6 are selected as control electrodes. e_out is selected as readout electrode, as the device will only have a single output.\n",
    "\n",
    "The data input electrodes, will receive voltages representing either a 0 or a 1, in all possible combinations for a two-dimensional boolean gate, as it can be observed in the truth table below.\n",
    "\n",
    "| e1 | e2 | e_out |\n",
    "|----|----|-------|\n",
    "| 0  | 0  | 0     |\n",
    "| 0  | 1  | 1     |\n",
    "| 1  | 0  | 1     |\n",
    "| 1  | 1  | 0     |\n",
    "\n",
    "\n",
    "\n",
    "The image [1] below, shows how the DNPU behaves after it has been trained\n",
    "\n",
    "\n",
    "![title](https://raw.githubusercontent.com/BraiNEdarwin/brains-py/master/doc/figures/dnpu.png)\n",
    "\n",
    "[1] Ruiz-Euler, H. C., Alegre-Ibarra, U., van de Ven, B., Broersma, H., Bobbert, P. A., & van der Wiel, W. G. (2021). Dopant network processing units: towards efficient neural network emulators with high-capacity nanoelectronic nodes. Neuromorphic Computing and Engineering, 1(2), 024002."
   ]
  },
  {
   "cell_type": "markdown",
   "id": "edfb2d8d",
   "metadata": {},
   "source": [
    "## 2. Configurations for the exercise"
   ]
  },
  {
   "cell_type": "markdown",
   "id": "c92a3a19",
   "metadata": {},
   "source": [
    "The configurations for brains-py are used in yaml format. This formats allows to easily store/read all needed configurations in a file, as well as loading them as a configuration file. "
   ]
  },
  {
   "cell_type": "code",
   "execution_count": 44,
   "id": "c859b6a8",
   "metadata": {},
   "outputs": [],
   "source": [
    "configs = {\n",
    "    'threshold': 1.0, # This value represents the % accuracy, in a scale from 0 to 1, at which a boolean gate will be considered as acceptable. \n",
    "    # The accuracy is the number of points that are classified correctly out of the total number of points available.\n",
    "    'max_attempts': 5, # It is sometimes the case that the boolean gate behaviour is not found on a single run, \n",
    "    #This variable specifies the number of attempts that will use in order to try to find a particular gate on the DNPU.\n",
    "    'results_dir': 'tmp/boolean', # It determines where the results of the experiments will be saved. \n",
    "    #A folder with the timestamp of the execution will be created inside this folder, each time the program is executed.\n",
    "    'gate' : [0, 1, 1, 0] #It determines the boolean gate that will be trained. For this example, XOR.\n",
    "}"
   ]
  },
  {
   "cell_type": "markdown",
   "id": "fe1e0de4",
   "metadata": {},
   "source": [
    "For this exercise, the Genetic Algorithm will be used, as this is a fast way to explore functionality on devices directly on-chip. The particularities of each config is explained below."
   ]
  },
  {
   "cell_type": "code",
   "execution_count": 45,
   "id": "f4b7f792",
   "metadata": {},
   "outputs": [],
   "source": [
    "algorithm_configs = {\n",
    "    'optimizer' : 'genetic', # Type of algorithm. It can either be 'genetic' or 'gradient'\n",
    "    'criterion' : 'corrsig_fit', # What type of fitness function will be used for training. \n",
    "    #In this case, corrsig_fit will be used, which uses pearsons correlation and a sigmoid function to determine the fitness.\n",
    "    'epochs' : 100, # Number of generations that will be used for the algorithm. (Number of loops)\n",
    "    'partition' : [4,22], # List of two elements. \n",
    "    # The first element indicates the number of genomes (control voltage combinations) that will not be mutated in each generation.\n",
    "    # The second element indicates the total number of genomes, when summing it with the first element.\n",
    "    'stop_threshold' : 1.0, # Fitness function (criterion) score limit at which the algorithm stops when reached.\n",
    "    'generange' : # Optimal operation range for activation electrodes. \n",
    "    # This is used for creating genes (control voltages) that are always between the specified range.\n",
    "    # When using a surrogate model, it is not necessary to declare them, as this information is taken directly from the info dictionary. \n",
    "    # If this key is present, it will override that of the info dictionary:\n",
    "  [\n",
    "    [-0.55, 0.325], # Activation electrode 0\n",
    "    [-0.95, 0.55], # Activation electrode 1\n",
    "    [-1.0, 0.6],\n",
    "    [-1.0, 0.6],\n",
    "    [-1.0, 0.6],\n",
    "    [-0.95, 0.55],\n",
    "    [-0.55, 0.325], # Activation electrode 6\n",
    "  ] \n",
    "    \n",
    "}\n",
    "\n",
    "configs['algorithm'] = algorithm_configs"
   ]
  },
  {
   "cell_type": "markdown",
   "id": "e1c6412c",
   "metadata": {},
   "source": [
    "In order to train the XOR boolean gate, the corrsig_fit fitness function was selected. This criterion is used to check whether a given output is optimal or not by comparing its correlation to the target signal. However, this only measures the correlation, and it is difficult to know in advance at which output current levels will be the found solution. In order to have more information about the quality of the output, a simple perceptron, consisting of a linear layer and a sigmoid is trained on the normalised output. The perceptrons linear layer, will determine a threshold at which an output can be considered either 0 or 1. By comparing the final result 0 or 1 against the original label ( in this case, output of the truth table that an XOR table should have, with regard to two given inputs), the information of the accuracy can be calculated. This is done by counting the number of correctly classified inputs, against the total number of inputs (in this case 4, all the possible input combinations of the truth table for e1 and e2).  "
   ]
  },
  {
   "cell_type": "code",
   "execution_count": 46,
   "id": "b0235e99",
   "metadata": {},
   "outputs": [],
   "source": [
    "perceptron_configs = {\n",
    "    'epochs' : 1000, # Number of epochs used to train the perceptron classifier\n",
    "    'learning_rate': 0.01, # Learning rate at which the perceptron classifier will be trained\n",
    "    'batch_size': 512 # Batch size at which the perceptron classifier will be trained\n",
    "}\n",
    "configs['accuracy'] = perceptron_configs"
   ]
  },
  {
   "cell_type": "markdown",
   "id": "36e21631",
   "metadata": {},
   "source": [
    "The last parts of the configurations are related to the processor used for a particular setup. "
   ]
  },
  {
   "cell_type": "code",
   "execution_count": 47,
   "id": "947b144c",
   "metadata": {},
   "outputs": [],
   "source": [
    "processor_configs = {\n",
    "    \"processor_type\" : 'cdaq_to_cdaq', # There are four different processor types: 'simulation', 'cdaq_to_cdaq', 'cdaq_to_nidaq', 'simulation_debug'. The first \n",
    "    'input_indices': [3,6], # It specifies what indices will be taken as data input. These correspond to the indices of the activation channels inside the instruments setup configuration. \n",
    "    'waveform': { # The waveform determines the number of points that will be used to represent a single point. More information about waveforms can be found at Section 5.1 Waveforms: https://github.com/BraiNEdarwin/brains-py/wiki/A.-Introduction\n",
    "        'plateau_length' : 30, \n",
    "        'slope_length' : 30\n",
    "    }\n",
    "}\n",
    "configs['processor'] = processor_configs"
   ]
  },
  {
   "cell_type": "markdown",
   "id": "d9c998af",
   "metadata": {},
   "source": [
    "Finally, the configurations used for the driver need to be specified. It is important to ensure that electrodes are connected to the DNPU correctly (activation_channels and readout_channels), you can double check the last schematic with its connections to the corresponing National Instruments device."
   ]
  },
  {
   "cell_type": "code",
   "execution_count": 48,
   "id": "042b0291",
   "metadata": {},
   "outputs": [],
   "source": [
    "driver_configs = {\n",
    "        'inverted_output': True, # Whether if the op-amp circuit to amplify the output of the DNPU applies an inversion or not.\n",
    "        'amplification': [41], # Indicates the amplification correction factor that will be applied to obtain the real current measurement from the setup. More information about this can be found in Section 5.3 of the introduction of brains-py wiki: https://github.com/BraiNEdarwin/brains-py/wiki/A.-Introduction\n",
    "        'instruments_setup':{ \n",
    "            'multiple_devices': False, # Indicates whether if the setup is using a PCB with multiple devices or not.\n",
    "            'trigger_source': TRIGGER_SOURCE, # Triggering signal to be sent for reading synchronisation. You can check for this signal for your setup on the NIMax app.\n",
    "            'average_io_point_difference': True, # If number of points read from the device is different from the number of points written to the device due to a difference in their\n",
    "                                                # sampling frequencies, this variable indicates if there should be an averaging so that the input and output have the same length.\n",
    "            'activation_instrument': ACTIVATION_INSTRUMENT, # Main module used for sending voltage signals to the DNPU \n",
    "            'activation_sampling_frequency': 1000, # Number of samples that will be written to the DNPU in one second.\n",
    "            'activation_channels': [6,0,1,5,2,4,3], # Channels of the module that will be used for sending signals the device. \n",
    "            'activation_voltage_ranges': # Maximum minimum and maximum voltage ranges that will be allowed to be sent to the DNPU, per electrode. Dimensions (Electrode_no, 2)\n",
    "              [\n",
    "                [-0.7,1.2],[-0.3,0.4],[-0.7,1.2],[-0.8,1.1],[-0.6,1.1],[-0.3,0.5],[-0.7,1.1]\n",
    "              ],\n",
    "            'readout_instrument': READOUT_INSTRUMENT, # Main module used for receiving voltage signals from the DNPU (after the op-amp) \n",
    "            'readout_sampling_frequency': 2000, # Number of samples that will be read from the DNPU in one second\n",
    "            'readout_channels': [0], # Channels of the module that will be used for reading signals from the device. \n",
    "            'activation_channel_mask': [1, 1, 1, 1, 1, 1, 1] # Whether if all the channels connected to the device electrodes would be used or not. 1 for enabling its use, 0 for disabling it. When disabled, the channels will not be declared.\n",
    "        }\n",
    "    \n",
    "    }\n",
    "\n",
    "configs['processor']['driver'] = driver_configs"
   ]
  },
  {
   "cell_type": "markdown",
   "id": "047ff69c",
   "metadata": {},
   "source": [
    "## 3. Creating a cusom model"
   ]
  },
  {
   "cell_type": "markdown",
   "id": "180d0af5",
   "metadata": {},
   "source": [
    "Brains-py allows a very flexible implementation of different simulation circuits by leveraging PyTorch's nn.Module architecture. For this reason, the expected usage of brains-py is by creating a custom nn.Module that suits your needs. For the particular example covered in this notebook, we will be using a direct connection to the hardware device. \n",
    "\n",
    "For this, we can almost directly use the class DNPU, which is an instance of a nn.Module of PyTorch. The DNPU class enables to declare control voltages as learnable parameters, and can be integrated with the genetic algorithm in order to find best voltages on hardware. The DNPU class supports to have the same processor acting as if it was many processors in a time-multiplexed manner. However, for this example we would be only using a single DNPU. We will pass the information about the input indices using the configs flag the we added previously, 'input_indices'.\n",
    "\n",
    "We also want the Processor class to internally contain an instance of HardwareProcessor. This is done by specifying the processor_type flag in the configs of the processor. Note that for simulation instances of the processor, an info dictionary is also required. We can directly initialise a such an instance of processor by just calling Processor(configs). \n",
    "\n",
    "More information about the Processor structure, and how it is implemented in brains-py can be found in https://github.com/BraiNEdarwin/brains-py/wiki/B.-Package-description\n",
    "\n",
    "More information about the info dictionary can be found in the wiki of brainspy-smg. "
   ]
  },
  {
   "cell_type": "code",
   "execution_count": 49,
   "id": "db7f909c",
   "metadata": {},
   "outputs": [],
   "source": [
    "from brainspy.processors.dnpu import DNPU\n",
    "from brainspy.processors.processor import Processor\n",
    "\n",
    "class DefaultCustomModel(DNPU):\n",
    "    \n",
    "    def __init__(self, configs):\n",
    "        # For this simple example, we just need a simple instance of a DNPU, but where input indices are defined \n",
    "        # already in the configs. The input indices are the electrodes that will be receiving the two dimensional\n",
    "        # data for the boolean gates task. All this can be easily achieved with the following line:\n",
    "        super(DefaultCustomModel, self).__init__(Processor(configs,average_plateaus=False), [configs['input_indices']])\n",
    "        \n",
    "        # Additonally, we know that the data that we will be receiving for our example will be in a range from -1 to 1.\n",
    "        # brains-py supports automatic transformation of the inputs, to the voltage ranges of the selected input indices.\n",
    "        # This is done with the following line:\n",
    "        self.add_input_transform([-1, 1])"
   ]
  },
  {
   "cell_type": "markdown",
   "id": "599a17ed",
   "metadata": {},
   "source": [
    "----------------------------------------------------------------------------------------------------------------------------\n",
    "**WARNING: Only run below cells if you want to run a surrogate model instead of a real connection to National Instruments drivers, connected to a device**"
   ]
  },
  {
   "cell_type": "markdown",
   "id": "58c36aa7",
   "metadata": {},
   "source": [
    "If you do not have access to National Instruments setups nor hardware devices, but you would still like to run this jupyter notebook, you can still run it on simulations. Request a surrogate model (training_data.pt) as explained in the beginning of the jupyter notebook and place it on the following folder:"
   ]
  },
  {
   "cell_type": "code",
   "execution_count": 50,
   "id": "d6bc9d5f",
   "metadata": {},
   "outputs": [
    {
     "name": "stdout",
     "output_type": "stream",
     "text": [
      "Place the training_data.pt file you received into: C:\\Users\\Unai\\Documents\\programming\\brainspy-examples\\surrogate_model\n"
     ]
    }
   ],
   "source": [
    "# SIMULATION_MODE\n",
    "# WARNING: Only run this cell if you want a surrogate model instead of a real connection to National Instruments drivers, connected to a device\n",
    "\n",
    "folder_path = os.path.join(os.getcwd(),'surrogate_model')\n",
    "if not os.path.exists(folder_path):\n",
    "    os.makedirs(folder_path)\n",
    "print(\"Place the training_data.pt file you received into: \"+folder_path)"
   ]
  },
  {
   "cell_type": "code",
   "execution_count": 51,
   "id": "4694de3a",
   "metadata": {},
   "outputs": [],
   "source": [
    "# SIMULATION_MODE\n",
    "# WARNING: Only run this cell if you want a surrogate model instead of a real connection to National Instruments drivers, connected to a device\n",
    "configs['processor']['processor_type'] = 'simulation_debug'"
   ]
  },
  {
   "cell_type": "code",
   "execution_count": 52,
   "id": "9bcb81a2",
   "metadata": {},
   "outputs": [],
   "source": [
    "# SIMULATION_MODE\n",
    "from brainspy.processors.dnpu import DNPU\n",
    "from brainspy.processors.processor import Processor\n",
    "\n",
    "class DefaultCustomModel(DNPU):\n",
    "    \n",
    "    def __init__(self, configs):\n",
    "        # In the simulation mode, there is a need to load the information from the info dictionary and the model weights.\n",
    "        folder_path = os.path.join(os.getcwd(),'surrogate_model')\n",
    "        model_data = torch.load(os.path.join(folder_path,'training_data.pt'))\n",
    "        \n",
    "        # For this simple example, we just need a simple instance of a DNPU, but where input indices are defined \n",
    "        # already in the configs. The input indices are the electrodes that will be receiving the two dimensional\n",
    "        # data for the boolean gates task. All this can be easily achieved with the following line:\n",
    "        super(DefaultCustomModel, self).__init__(Processor(configs, info=model_data['info'], model_state_dict=model_data['model_state_dict'], average_plateaus=False), [configs['input_indices']])\n",
    "        \n",
    "        # Additonally, we know that the data that we will be receiving for our example will be in a range from -1 to 1.\n",
    "        # brains-py supports automatic transformation of the inputs, to the voltage ranges of the selected input indices.\n",
    "        # This is done with the following line:\n",
    "        self.add_input_transform([-1, 1])\n",
    "    \n",
    "    def forward(self, x):\n",
    "        return super().forward(x).unsqueeze(1)"
   ]
  },
  {
   "cell_type": "markdown",
   "id": "b3db3eb5",
   "metadata": {},
   "source": [
    "**WARNING: Only run above cells if you want to run a surrogate model instead of a real connection to National Instruments drivers, connected to a device**\n",
    "\n",
    "----------------------------------------------------------------------------------------------------------------------------"
   ]
  },
  {
   "cell_type": "markdown",
   "id": "e45975c7",
   "metadata": {},
   "source": [
    "## 4. Algorithm and fitness function"
   ]
  },
  {
   "cell_type": "code",
   "execution_count": 53,
   "id": "2e5b46aa",
   "metadata": {},
   "outputs": [],
   "source": [
    "from brainspy.utils import manager\n",
    "\n",
    "criterion = manager.get_criterion(configs[\"algorithm\"]['criterion'])\n",
    "algorithm = manager.get_algorithm(configs[\"algorithm\"]['optimizer'])"
   ]
  },
  {
   "cell_type": "code",
   "execution_count": 54,
   "id": "7f7b5ede",
   "metadata": {},
   "outputs": [
    {
     "name": "stderr",
     "output_type": "stream",
     "text": [
      "  Gen: 1. Max fitness: 0.7144680023193359. Corr: 0.7159753441810608:   0%|                     | 0/100 [00:00<?, ?it/s]"
     ]
    },
    {
     "name": "stdout",
     "output_type": "stream",
     "text": [
      "==========================================================================================\n",
      "GATE: [0 1 1 0]\n",
      "ATTEMPT: 1\n"
     ]
    },
    {
     "name": "stderr",
     "output_type": "stream",
     "text": [
      "Training perceptron: Epoch: 34  Accuracy 0.0, running loss: 0.9444352984428406:   2%| | 20/1000 [00:00<00:05, 195.97it/"
     ]
    },
    {
     "name": "stdout",
     "output_type": "stream",
     "text": [
      "Best solution in epoch (starting from 0): 96\n",
      "Best fitness: 0.775556206703186\n",
      "Correlation: 0.7913999557495117\n"
     ]
    },
    {
     "name": "stderr",
     "output_type": "stream",
     "text": [
      "Training perceptron: Epoch: 99  Accuracy 100.0, running loss: 0.6771928668022156:  10%| | 99/1000 [00:00<00:04, 189.76i\n"
     ]
    },
    {
     "name": "stdout",
     "output_type": "stream",
     "text": [
      "\n",
      "Reached 100/% accuracy. Stopping.\n",
      "VC Dimension: 4 Gate: [0 1 1 0] Veredict: True\n",
      " Accuracy (Simulation): 1.0000000762939454/1.0\n",
      "==========================================================================================\n"
     ]
    }
   ],
   "source": [
    "from bspytasks.boolean.tasks.classifier import boolean_task\n",
    "\n",
    "results = boolean_task(configs,\n",
    "             DefaultCustomModel,\n",
    "             criterion,\n",
    "             algorithm)"
   ]
  },
  {
   "cell_type": "markdown",
   "id": "98734b52",
   "metadata": {},
   "source": [
    "## 5. Analysis of results"
   ]
  },
  {
   "cell_type": "markdown",
   "id": "f3f2492e",
   "metadata": {},
   "source": [
    "After executing the boolean task, a folder will be created inside the folder that has been specified in configs, ('results_dir'). The folder will contain the gate, as specified in configs ('gate'), in this case [0 1 1 0], and the timestamp of when it was created. The resutls from the classifier are saved in the following directory: "
   ]
  },
  {
   "cell_type": "code",
   "execution_count": 55,
   "id": "b604fd4d",
   "metadata": {},
   "outputs": [
    {
     "name": "stdout",
     "output_type": "stream",
     "text": [
      "tmp/boolean\\[0, 1, 1, 0]_2022_08_23_110659\n"
     ]
    }
   ],
   "source": [
    "print(results['main_dir'])"
   ]
  },
  {
   "cell_type": "markdown",
   "id": "6fa4c4ed",
   "metadata": {},
   "source": [
    "The folder contains the output for the trained gate, its accuracy, and the training profile. It also contains a reproducibility folder to reproduce the obtained results."
   ]
  },
  {
   "cell_type": "code",
   "execution_count": 56,
   "id": "fb63b3c2",
   "metadata": {},
   "outputs": [
    {
     "data": {
      "text/plain": [
       "['output_vs_targets.jpg',\n",
       " 'reproducibility',\n",
       " 'train_accuracy.jpg',\n",
       " 'train_profile.jpg']"
      ]
     },
     "execution_count": 56,
     "metadata": {},
     "output_type": "execute_result"
    }
   ],
   "source": [
    "os.listdir(results['main_dir'])"
   ]
  },
  {
   "cell_type": "markdown",
   "id": "106b896b",
   "metadata": {},
   "source": [
    "### 5.1 Output"
   ]
  },
  {
   "cell_type": "markdown",
   "id": "b46508fa",
   "metadata": {},
   "source": [
    "outputs_vs_targets.jpg shows the output current in nA of the found solution (blue), for the four possible two dimensional outputs of the truth table. In orange, the result shows the label that needs to be predicted. Note that the label does not have any unit, it simply represents a 0 or a 1, corresponding to the boolean outputs of the XOR gate. "
   ]
  },
  {
   "cell_type": "code",
   "execution_count": 57,
   "id": "aba9a638",
   "metadata": {},
   "outputs": [
    {
     "data": {
      "text/html": [
       "<img src=\"tmp/boolean\\[0, 1, 1, 0]_2022_08_23_110659\\output_vs_targets.jpg\"/>"
      ],
      "text/plain": [
       "<IPython.core.display.Image object>"
      ]
     },
     "execution_count": 57,
     "metadata": {},
     "output_type": "execute_result"
    }
   ],
   "source": [
    "Image(url= os.path.join(results['main_dir'], \"output_vs_targets.jpg\"))"
   ]
  },
  {
   "cell_type": "markdown",
   "id": "9a814175",
   "metadata": {},
   "source": [
    "### 5.3 Accuracy"
   ]
  },
  {
   "cell_type": "markdown",
   "id": "cf7792a6",
   "metadata": {},
   "source": [
    "Since the output of the device can be in different ranges, it is difficult to show what the final accuracy can be. In order to calculate it, a perceptron is trained (over normalised output data of the solution) to determine a threshold boundary after which results will be classified as being 1 or 0. These results are compared agains the true labels of the gate. The accuracy is then calculated dividing the total number of correctly classified labels, by the total number of labels. For the boolean gates problem. Note that for the boolean gates problem there are only four labels (results of the truth table). These values are repeated in a plateau due to the waveform requirements of the device. The results for calculating the accuracy are shown in train_accuracy.jpg\n",
    "\n",
    "In blue, the normalised output data of the solution can be observed, where the threshold obtained by the perceptron is depicted with a black dotted line. Above that line, samples will be labelled as 1, below that line, samples will be labelled as 0. \n",
    "\n",
    "The picture also shows a green line, showing the true labels (Either 0 or 1). The yellow dots shows how each point was predicted. In this case, the solution got a 100% of accuracy, as all the labels were predicted correctly.\n"
   ]
  },
  {
   "cell_type": "code",
   "execution_count": 58,
   "id": "22861125",
   "metadata": {},
   "outputs": [
    {
     "data": {
      "text/html": [
       "<img src=\"tmp/boolean\\[0, 1, 1, 0]_2022_08_23_110659\\train_accuracy.jpg\"/>"
      ],
      "text/plain": [
       "<IPython.core.display.Image object>"
      ]
     },
     "execution_count": 58,
     "metadata": {},
     "output_type": "execute_result"
    }
   ],
   "source": [
    "Image(url= os.path.join(results['main_dir'], \"train_accuracy.jpg\"))"
   ]
  },
  {
   "cell_type": "markdown",
   "id": "cdf9d8c0",
   "metadata": {},
   "source": [
    "### 5.2 Training profile"
   ]
  },
  {
   "cell_type": "markdown",
   "id": "1ac9d7df",
   "metadata": {},
   "source": [
    "train_profile.png shows details about how the model was performing in each epoch. On the X axis it shows the number of epoch, on the Y axis it shows the performance metric of the fitness/loss function that was used. In this case corrsig_fit."
   ]
  },
  {
   "cell_type": "code",
   "execution_count": 59,
   "id": "18ab1f04",
   "metadata": {},
   "outputs": [
    {
     "data": {
      "text/html": [
       "<img src=\"tmp/boolean\\[0, 1, 1, 0]_2022_08_23_110659\\train_profile.jpg\"/>"
      ],
      "text/plain": [
       "<IPython.core.display.Image object>"
      ]
     },
     "execution_count": 59,
     "metadata": {},
     "output_type": "execute_result"
    }
   ],
   "source": [
    "Image(url= os.path.join(results['main_dir'], \"train_profile.jpg\"))"
   ]
  },
  {
   "cell_type": "markdown",
   "id": "3c4682a4",
   "metadata": {},
   "source": [
    "### 5.3 Reproducibility of results"
   ]
  },
  {
   "cell_type": "markdown",
   "id": "39ed8cc3",
   "metadata": {},
   "source": [
    "The reproducibility folder contains all the elements needed to reproduce the experiment, including the data that was used to plot results, train_profile, and train_accuracy. "
   ]
  },
  {
   "cell_type": "code",
   "execution_count": 60,
   "id": "10d590fb",
   "metadata": {},
   "outputs": [
    {
     "data": {
      "text/plain": [
       "['best_model_raw.pt',\n",
       " 'best_training_data.pickle',\n",
       " 'configs.yaml',\n",
       " 'model_raw.pt',\n",
       " 'results.pickle',\n",
       " 'training_data.pickle']"
      ]
     },
     "execution_count": 60,
     "metadata": {},
     "output_type": "execute_result"
    }
   ],
   "source": [
    "os.listdir(os.path.join(results['main_dir'],'reproducibility'))"
   ]
  },
  {
   "cell_type": "markdown",
   "id": "fcfb50a1",
   "metadata": {},
   "source": [
    "#### 5.3.1 Reproducibility of results"
   ]
  },
  {
   "cell_type": "markdown",
   "id": "d77088d3",
   "metadata": {},
   "source": [
    "Configs are an exact copy of the configurations that were used for this example. You can simply reload them by calling the load_configs function from brainspy utils. You can repeat the same experiment using these configs. Below, an example of how to load the configs again:"
   ]
  },
  {
   "cell_type": "code",
   "execution_count": 61,
   "id": "0270a0a2",
   "metadata": {},
   "outputs": [
    {
     "data": {
      "text/plain": [
       "{'accuracy': {'batch_size': 512, 'epochs': 1000, 'learning_rate': 0.01},\n",
       " 'algorithm': {'criterion': 'corrsig_fit',\n",
       "  'epochs': 2,\n",
       "  'generange': [[-0.55, 0.325],\n",
       "   [-0.95, 0.55],\n",
       "   [-1.0, 0.6],\n",
       "   [-1.0, 0.6],\n",
       "   [-1.0, 0.6],\n",
       "   [-0.95, 0.55],\n",
       "   [-0.55, 0.325]],\n",
       "  'optimizer': 'genetic',\n",
       "  'partition': [4, 22],\n",
       "  'stop_threshold': 1.0},\n",
       " 'gate': [0, 1, 1, 0],\n",
       " 'max_attempts': 5,\n",
       " 'processor': {'driver': {'amplification': [41],\n",
       "   'instruments_setup': {'activation_channel_mask': [1, 1, 1, 1, 1, 1, 1],\n",
       "    'activation_channels': [6, 0, 1, 5, 2, 4, 3],\n",
       "    'activation_instrument': 'cDAQ2Mod3',\n",
       "    'activation_sampling_frequency': 1000,\n",
       "    'activation_voltage_ranges': [[-0.7, 1.2],\n",
       "     [-0.3, 0.4],\n",
       "     [-0.7, 1.2],\n",
       "     [-0.8, 1.1],\n",
       "     [-0.6, 1.1],\n",
       "     [-0.3, 0.5],\n",
       "     [-0.7, 1.1]],\n",
       "    'average_io_point_difference': True,\n",
       "    'multiple_devices': False,\n",
       "    'readout_channels': [0],\n",
       "    'readout_instrument': 'cDAQ2Mod8',\n",
       "    'readout_sampling_frequency': 2000,\n",
       "    'trigger_source': 'cDAQ2'},\n",
       "   'inverted_output': True},\n",
       "  'input_indices': [3, 6],\n",
       "  'processor_type': 'simulation_debug',\n",
       "  'waveform': {'plateau_length': 30, 'slope_length': 30}},\n",
       " 'results_dir': 'tmp/boolean',\n",
       " 'threshold': 1.0}"
      ]
     },
     "execution_count": 61,
     "metadata": {},
     "output_type": "execute_result"
    }
   ],
   "source": [
    "from brainspy.utils.io import load_configs\n",
    "reproducibility_configs = load_configs(os.path.join(results['main_dir'],'reproducibility','configs.yaml'))\n",
    "reproducibility_configs"
   ]
  },
  {
   "cell_type": "markdown",
   "id": "7d2e30cb",
   "metadata": {},
   "source": [
    "#### 5.3.2 Model"
   ]
  },
  {
   "cell_type": "markdown",
   "id": "c395d936",
   "metadata": {},
   "source": [
    "The reproducibility folder also includes a copy of the trained model in pytorch. \n",
    "\n",
    "Note that in this case, the hardware model is being used. Therefeore, the only pytorch weights will be stored in the dictionary. The weights, in this case, correspond to the control voltage values for the found solution.\n",
    "\n",
    "The following code shows the control voltages for this solution:"
   ]
  },
  {
   "cell_type": "code",
   "execution_count": 62,
   "id": "d589fb83",
   "metadata": {},
   "outputs": [],
   "source": [
    "import torch\n",
    "\n",
    "training_data = torch.load(os.path.join(results['main_dir'],'reproducibility','best_training_data.pickle'), \n",
    "                                   map_location=torch.device('cpu'))\n",
    "\n"
   ]
  },
  {
   "cell_type": "code",
   "execution_count": 63,
   "id": "70ad67cb",
   "metadata": {},
   "outputs": [
    {
     "data": {
      "text/plain": [
       "tensor([[ 0.0489, -0.6314, -0.5568,  0.2700, -0.8434]])"
      ]
     },
     "execution_count": 63,
     "metadata": {},
     "output_type": "execute_result"
    }
   ],
   "source": [
    "training_data['model_state_dict']['control_voltages']"
   ]
  },
  {
   "cell_type": "markdown",
   "id": "60a93d90",
   "metadata": {},
   "source": [
    "This model is corresponding to an instance of DefaultCustomModel. This works in te same way as a pytorch model weights. Check the [official documentation](https://pytorch.org/tutorials/beginner/saving_loading_models.html) for more information on saving and loading pytorch models. \n",
    "\n",
    "The model can be reloaded again, as follows:"
   ]
  },
  {
   "cell_type": "code",
   "execution_count": 64,
   "id": "336708e7",
   "metadata": {},
   "outputs": [
    {
     "name": "stderr",
     "output_type": "stream",
     "text": [
      "c:\\users\\unai\\documents\\programming\\brains-py\\brainspy\\processors\\simulation\\noise\\noise.py:97: UserWarning: No noise is being simulated for the model.\n",
      "  warnings.warn(\"No noise is being simulated for the model.\")\n"
     ]
    },
    {
     "data": {
      "text/plain": [
       "tensor([[-0.2415,  0.3668,  0.6661, -0.1265, -0.3904]])"
      ]
     },
     "execution_count": 64,
     "metadata": {},
     "output_type": "execute_result"
    }
   ],
   "source": [
    "reloaded_model = DefaultCustomModel(configs['processor'])\n",
    "\n",
    "# reloaded_model now contains a model with random control voltages.\n",
    "reloaded_model.get_control_voltages()\n"
   ]
  },
  {
   "cell_type": "code",
   "execution_count": 65,
   "id": "21bb00f9",
   "metadata": {},
   "outputs": [
    {
     "data": {
      "text/plain": [
       "tensor([[ 0.0489, -0.6314, -0.5568,  0.2700, -0.8434]])"
      ]
     },
     "execution_count": 65,
     "metadata": {},
     "output_type": "execute_result"
    }
   ],
   "source": [
    "# In order to load the control voltages from the solution found, it can be done as follows:\n",
    "reloaded_model.load_state_dict(training_data['model_state_dict'])\n",
    "\n",
    "# These control voltages are the same as those printed from the training_data file.\n",
    "reloaded_model.get_control_voltages()"
   ]
  },
  {
   "cell_type": "markdown",
   "id": "74a827e0",
   "metadata": {},
   "source": [
    "#### 5.3.3 Results"
   ]
  },
  {
   "cell_type": "markdown",
   "id": "4f920777",
   "metadata": {},
   "source": [
    "The reproducibility folder also holds a pickle with all the information used to make the output_vs_targets and accuracy plots. The information can be accessed as follows:"
   ]
  },
  {
   "cell_type": "code",
   "execution_count": 66,
   "id": "4245d091",
   "metadata": {},
   "outputs": [
    {
     "data": {
      "text/plain": [
       "['inputs',\n",
       " 'targets',\n",
       " 'targets_waveform',\n",
       " 'predictions',\n",
       " 'performance',\n",
       " 'main_dir',\n",
       " 'training_data',\n",
       " 'threshold',\n",
       " 'gate',\n",
       " 'accuracy',\n",
       " 'correlation',\n",
       " 'veredict',\n",
       " 'summary']"
      ]
     },
     "execution_count": 66,
     "metadata": {},
     "output_type": "execute_result"
    }
   ],
   "source": [
    "import torch\n",
    "\n",
    "results = torch.load(os.path.join(results['main_dir'],'reproducibility','results.pickle'), map_location=torch.device('cpu'))\n",
    "list(results)"
   ]
  },
  {
   "cell_type": "markdown",
   "id": "15dcf5d7",
   "metadata": {},
   "source": [
    "* inputs: The same inputs used in the dataset for the particular gate\n",
    "* targets: The same targets used in the dataset for the particular gate\n",
    "* targets_waveform: The same targets used in the dataset for the particular gate, but transformed to the particular waveform so that it has the same shape as the input.\n",
    "* predictions: The values predicted by the saved model for all inputs\n",
    "* performance: The best/last performance value of the model\n",
    "* training_data: \n",
    "    * genome_history: History of all genomes that were used during training, per epoch\n",
    "    * performance_history: History of all performances of during training, per epoch\n",
    "    * correlation_history: History of all correlation values during training, per epoch\n",
    "    * best_output: Output current values for the best output\n",
    "* threshold: Fitness function (criterion) score limit at which the algorithm stops when reached.\n",
    "* gate: Name of the gate that was being run\n",
    "* accuracy: \n",
    "    * norm_inputs: Normalised outpus of the model solution\n",
    "    * norm_threshold: Normalised separation threshold for the solution\n",
    "    * threshold: Separation threshold for the solution\n",
    "    * predicted_labels: Prediction of the labels using the threshold as a classifier for 0 and 1 values.\n",
    "    * node: Instance of the linear layer of the perceptron.\n",
    "    * accuracy_value: Accuracy value obtained by the solution\n",
    "    * configs: Configurations used for training the perceptron. More information on these configurations can be found on the default template\n",
    "* correlation: The best/last correlation value of the model\n",
    "* veredict: Whether if the algorithm considered the best output as successful or not.\n",
    "* summary: small string that summarises the experiment."
   ]
  },
  {
   "cell_type": "markdown",
   "id": "fa68a5a1",
   "metadata": {},
   "source": [
    "##### 5.3.3.1 Plotting again using Results"
   ]
  },
  {
   "cell_type": "markdown",
   "id": "101ff7e4",
   "metadata": {},
   "source": [
    "You can use the information from results.pickle to create your custom plots, or you can simply call existing functions that will reproduce the same plots as the saved ones. This is useful to have a look at details that might have been missed or to save the image in a format with more quality. This can be done as follows:"
   ]
  },
  {
   "cell_type": "code",
   "execution_count": 67,
   "id": "6360d916",
   "metadata": {},
   "outputs": [
    {
     "data": {
      "image/png": "[encoded data removed]",
      "text/plain": [
       "<Figure size 432x288 with 1 Axes>"
      ]
     },
     "execution_count": 67,
     "metadata": {},
     "output_type": "execute_result"
    }
   ],
   "source": [
    "from bspytasks.boolean.tasks.classifier import plot_results\n",
    "\n",
    "plot_results(results)"
   ]
  },
  {
   "cell_type": "code",
   "execution_count": 68,
   "id": "042c3233",
   "metadata": {},
   "outputs": [
    {
     "data": {
      "image/png": "[encoded data removed]",
      "text/plain": [
       "<Figure size 432x288 with 1 Axes>"
      ]
     },
     "execution_count": 68,
     "metadata": {},
     "output_type": "execute_result"
    }
   ],
   "source": [
    "from brainspy.utils.performance.accuracy import plot_perceptron\n",
    "\n",
    "plot_perceptron(results['accuracy'])"
   ]
  },
  {
   "cell_type": "code",
   "execution_count": 69,
   "id": "9c93bc98",
   "metadata": {},
   "outputs": [
    {
     "data": {
      "image/png": "[encoded data removed]",
      "text/plain": [
       "<Figure size 432x288 with 1 Axes>"
      ]
     },
     "metadata": {
      "needs_background": "light"
     },
     "output_type": "display_data"
    }
   ],
   "source": [
    "from bspytasks.boolean.tasks.classifier import plot_performance\n",
    "\n",
    "plot_performance(results, show_plots=True)"
   ]
  },
  {
   "cell_type": "markdown",
   "id": "0f29d71d",
   "metadata": {},
   "source": [
    "#### 5.3.4 Training data"
   ]
  },
  {
   "cell_type": "markdown",
   "id": "b6075879",
   "metadata": {},
   "source": [
    "The training data includes relevant data related to the algorithm, and how it was run."
   ]
  },
  {
   "cell_type": "code",
   "execution_count": 70,
   "id": "2a3cc2b1",
   "metadata": {},
   "outputs": [
    {
     "data": {
      "text/plain": [
       "['epoch',\n",
       " 'algorithm',\n",
       " 'model_state_dict',\n",
       " 'performance',\n",
       " 'correlations',\n",
       " 'genome_history']"
      ]
     },
     "execution_count": 70,
     "metadata": {},
     "output_type": "execute_result"
    }
   ],
   "source": [
    "import torch\n",
    "\n",
    "training_data = torch.load(os.path.join(results['main_dir'],'reproducibility','training_data.pickle'), map_location=torch.device('cpu'))\n",
    "list(training_data)"
   ]
  },
  {
   "cell_type": "markdown",
   "id": "6b886f5d",
   "metadata": {},
   "source": [
    "#### 5.3.5 Reproducing the results back again"
   ]
  },
  {
   "cell_type": "markdown",
   "id": "c77da9d0",
   "metadata": {},
   "source": [
    "You can also reproduce the results again with new measurements on hardware. For example, you could do as follows"
   ]
  },
  {
   "cell_type": "code",
   "execution_count": 71,
   "id": "9cd90b05",
   "metadata": {},
   "outputs": [
    {
     "name": "stderr",
     "output_type": "stream",
     "text": [
      "c:\\users\\unai\\documents\\programming\\brains-py\\brainspy\\processors\\simulation\\noise\\noise.py:97: UserWarning: No noise is being simulated for the model.\n",
      "  warnings.warn(\"No noise is being simulated for the model.\")\n"
     ]
    },
    {
     "data": {
      "image/png": "[encoded data removed]",
      "text/plain": [
       "<Figure size 432x288 with 1 Axes>"
      ]
     },
     "metadata": {
      "needs_background": "light"
     },
     "output_type": "display_data"
    }
   ],
   "source": [
    "import torch\n",
    "from brainspy.utils.pytorch import TorchUtils\n",
    "main_dir = results['main_dir']\n",
    "# Load the results \n",
    "results = torch.load(os.path.join(main_dir,\"reproducibility\",\"results.pickle\"), map_location=TorchUtils.get_device())\n",
    "\n",
    "# Load the model state dictionary\n",
    "training_data = torch.load(os.path.join(main_dir,\"reproducibility\",\"best_training_data.pickle\"), map_location=TorchUtils.get_device())\n",
    "\n",
    "# Load the original configurations with which the data was acquired\n",
    "configs = load_configs(os.path.join(main_dir,\"reproducibility\",\"configs.yaml\"))\n",
    "\n",
    "# If you want, you can modify the original configurations to compare how the device would work\n",
    "configs['processor']['driver']['instruments_setup']['activation_sampling_frequency'] = 500\n",
    "configs['processor']['waveform']['plateau_length'] = 40\n",
    "configs['processor']['waveform']['slope_length'] = 80\n",
    "\n",
    "# Create an instance of your custom model\n",
    "model = TorchUtils.format(DefaultCustomModel(configs['processor']))\n",
    "\n",
    "# Load the weights (in this case, the control voltage values for the solution) of your model\n",
    "model.load_state_dict(training_data['model_state_dict'])\n",
    "\n",
    "# You can reproduce the same experiment by passing the inputs again\n",
    "output = model(TorchUtils.format(results['inputs']))\n",
    "\n",
    "# You can compare the new results with the ones that were gathered with the previous configs\n",
    "plt.plot(TorchUtils.to_numpy(results['predictions']), '.', label='Original results')\n",
    "plt.plot(TorchUtils.to_numpy(output), '.', label='Results with new configs')\n",
    "plt.xlabel(\"Point\")\n",
    "plt.ylabel(\"Current (nA)\")\n",
    "plt.legend()\n",
    "plt.show()"
   ]
  },
  {
   "cell_type": "markdown",
   "id": "ece52ad4",
   "metadata": {},
   "source": [
    "* epoch: Iteration at which the algorithm stopped\n",
    "* algorithm: type of algorithm used (genetic or gradient)\n",
    "* model_state_dict: state dictionary of the model used (In this case, instance of DefaultCustomModel)\n",
    "* best_fitness: Best fitness obtained by the algorithm\n",
    "* best_correlation: Best correlation obtained by the algorithm\n"
   ]
  },
  {
   "cell_type": "markdown",
   "id": "ba420c85",
   "metadata": {},
   "source": [
    "## 6. VC Dimension and Capacity test"
   ]
  },
  {
   "cell_type": "markdown",
   "id": "01380626",
   "metadata": {},
   "source": [
    "VC Dimension and Capacity test examples have also been presented along with brainspy-tasks. You can use them in a very similar way "
   ]
  },
  {
   "cell_type": "code",
   "execution_count": null,
   "id": "836d4322",
   "metadata": {},
   "outputs": [],
   "source": [
    "from bspytasks.boolean.tasks.vcdimension import vc_dimension_test\n",
    "\n",
    "configs['current_dimension'] = 4 # VC dimension that will be run\n",
    "configs['threshold_parameter'] = 0.75  # This variable is only used for VC Dimension and Capacity experiments. It determines what the threshold will be by\n",
    "  # Applying the following formula: 1 - (threshold_parameter / current_dimension)\n",
    "    \n",
    "results = vc_dimension_test(configs,\n",
    "                                DefaultCustomModel,\n",
    "                                criterion,\n",
    "                                algorithm)"
   ]
  },
  {
   "cell_type": "code",
   "execution_count": null,
   "id": "c57d6e01",
   "metadata": {},
   "outputs": [],
   "source": [
    "from bspytasks.boolean.tasks.capacity import capacity_test\n",
    "\n",
    "configs['from_dimension'] = 4 # VC dimension in which the capacity test will start\n",
    "configs['to_dimension'] = 5 # It determines the last VC Dimension at which the experiment will run. \n",
    "configs['threshold_parameter'] = 0.75  # This variable is only used for VC Dimension and Capacity experiments. It determines what the threshold will be by\n",
    "  # Applying the following formula: 1 - (threshold_parameter / current_dimension)\n",
    "    \n",
    "results = capacity_test(\n",
    "        configs,\n",
    "        DefaultCustomModel,\n",
    "        criterion,\n",
    "        algorithm)"
   ]
  },
  {
   "cell_type": "markdown",
   "id": "d507191b",
   "metadata": {},
   "source": [
    "Botch VC Dimension and Capacity tests produce a similar folder structure with same plots and reproducibility data per gate."
   ]
  },
  {
   "cell_type": "code",
   "execution_count": null,
   "id": "14046416",
   "metadata": {},
   "outputs": [],
   "source": []
  },
  {
   "cell_type": "code",
   "execution_count": null,
   "id": "169952af",
   "metadata": {},
   "outputs": [],
   "source": []
  }
 ],
 "metadata": {
  "kernelspec": {
   "display_name": "Python 3 (ipykernel)",
   "language": "python",
   "name": "python3"
  },
  "language_info": {
   "codemirror_mode": {
    "name": "ipython",
    "version": 3
   },
   "file_extension": ".py",
   "mimetype": "text/x-python",
   "name": "python",
   "nbconvert_exporter": "python",
   "pygments_lexer": "ipython3",
   "version": "3.9.0"
  }
 },
 "nbformat": 4,
 "nbformat_minor": 5
}
