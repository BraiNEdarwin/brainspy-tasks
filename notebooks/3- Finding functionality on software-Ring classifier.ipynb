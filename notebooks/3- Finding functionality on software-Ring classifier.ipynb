{
 "cells": [
  {
   "cell_type": "markdown",
   "id": "7f503656",
   "metadata": {},
   "source": [
    "# Example: Finding functionality in software"
   ]
  },
  {
   "cell_type": "markdown",
   "id": "bc96bbd3",
   "metadata": {},
   "source": [
    "This notebook covers an example on how to find functionality on software. \n",
    "\n",
    "\n",
    "**Prerequisites:**\n",
    "- You have the surrogate model data of a device. This file contains information from one of our devices, and it typically is named as training_data.pt. If you do not have it, you can request one to Professor Dr. Ir. Wilfred van der Wiel at  w.g.vanderwiel@utwente.nl .\n",
    "- You have the hardware device on which the model was trained  dipped in one of the National Instruments setups- You have successfully installed brains-py and brains-py tasks. If you do not have access to this, you can still look for a solution on a surrogate model, but you will not be able to validate it on hardware.\n",
    "- You have completed a previous exercise for determining adequate voltage ranges using iv-curves with brainspy-smg, or you already have the activation electrode ranges that work for the device. For this exercise we will assume, an operating range of activation electrodes of:   \n",
    "        [[-0.3500,  0.1500],\n",
    "        [-1.2000,  0.8000],\n",
    "        [-1.2000,  1.2000],\n",
    "        [-1.2000,  1.2000],\n",
    "        [-1.2000,  1.2000],\n",
    "        [-1.2000,  0.8000],\n",
    "        [-0.3500,  0.2000]]\n",
    "- You know which are the optimal data-input and control electrodes for this exercise. For this exercise we will use e1 and e2 as data-input electrodes, and e0, e3-e6 as control electrodes.\n",
    "\n",
    "\n",
    "\n",
    "    \n",
    "    "
   ]
  },
  {
   "cell_type": "code",
   "execution_count": 85,
   "id": "dc627dce",
   "metadata": {},
   "outputs": [],
   "source": [
    "import os\n",
    "import torch\n",
    "\n",
    "from IPython.display import Image\n",
    "\n",
    "import matplotlib.pyplot as plt\n",
    "from bspytasks.ring.tasks.classifier import plot_inputs\n",
    "\n",
    "\n",
    "from brainspy.utils.pytorch import TorchUtils\n",
    "from brainspy.utils.io import load_configs\n",
    "from bspytasks.ring.data import RingDatasetGenerator # Optional"
   ]
  },
  {
   "cell_type": "markdown",
   "id": "91f4354a",
   "metadata": {},
   "source": [
    "## 1. Theory"
   ]
  },
  {
   "cell_type": "markdown",
   "id": "8fba408a",
   "metadata": {},
   "source": [
    "### 1.1 Electrode types in a DNPU"
   ]
  },
  {
   "cell_type": "markdown",
   "id": "01f69e63",
   "metadata": {},
   "source": [
    "- Activation electrodes: These electrodes receive input voltages (V) that will be used to obtain a non-linear output. The input range for these electrodes typically ranges from -1.2 to 0.7. Outside these outputs the resulting output signal can become noisy [1]. In the image below, activation electrodes range from e0 to e6. These electrodes can be of two types:\n",
    "    - Data input electrodes: The data from a particular task that wants to be resolved. For example, if the intention was to make the DNPU behave as an XOR boolean gate, two data input electrodes could be used for receiving the combination of all possible input signals (00, 01, 10, and 11) [1]. In the image below, data input electrodes are e2 and e1.\n",
    "    - Control electrodes: The electrodes that will be used in order to control that the output signals behaves as desired when trying to resolve a particular task. For example, if the intention was to make the DNPU behave as an XOR boolean gate, these electrodes would control the output signal in such a way that it exhibits the outputs 0, 1, 1, 0, for each of the inputs 00, 01, 10, and 11 respectively. In the image below, control electrodes are e0, e3, e4, e5, and e6.\n",
    "- Readout electrodes: The resulting current (in nA) is measured using these electrodes. In the image below, the readout electrode is e_out"
   ]
  },
  {
   "cell_type": "markdown",
   "id": "912b3084",
   "metadata": {},
   "source": [
    "### 1.2 The ring classification problem"
   ]
  },
  {
   "cell_type": "markdown",
   "id": "0637bf18",
   "metadata": {},
   "source": [
    "In this exercise, we use the tunability properties of single DNPU using a surrogate model, to find the optimal control voltages to make the DNPU behave as a classifier for the ring classification task. This task consists of a set of points located in a two dimensional Cartesian space, where points are distributed in a concentric shape. There is a gap between points that are closer to the concentric point, and those points that are closer to the outskirts of the circle. Each point is labelled as being outside of the gap or inside the gap. The aim of the ring classification problem is to separate these two classes of labels.\n",
    "\n",
    "The two dimensional input space in the cartesian space, is represented with values between -1 and 1. These values are translated to the full range of the data input electrodes with a linear transformation. We select two electrodes as data-input electrodes, in this case, electrodes e1 and e2. Electrodes e0, e3-e6 are selected as control electrodes. e_out is selected as readout electrode, as the device will only have a single output. The linear transformation is performed automatically by brains-py. \n",
    "\n",
    "For more information, we refer to the following paper: \n",
    "[1] Ruiz-Euler, H. C., Alegre-Ibarra, U., van de Ven, B., Broersma, H., Bobbert, P. A., & van der Wiel, W. G. (2021). Dopant network processing units: towards efficient neural network emulators with high-capacity nanoelectronic nodes. Neuromorphic Computing and Engineering, 1(2), 024002."
   ]
  },
  {
   "cell_type": "markdown",
   "id": "ab30e6c4",
   "metadata": {},
   "source": [
    "# 2. Creating a dataset (Optional)"
   ]
  },
  {
   "cell_type": "markdown",
   "id": "6159aca4",
   "metadata": {},
   "source": [
    "There are two options for running the ring task. The first option enables to generate a new dataset with similar characteristics each time the experiment is run. The second option enables to load the data from a directory, in order to execute several experiments on the exact same dataset. The following step shows how to create your own dataset."
   ]
  },
  {
   "cell_type": "code",
   "execution_count": 86,
   "id": "f98e1327",
   "metadata": {},
   "outputs": [],
   "source": [
    "if not os.path.exists(os.path.join('tmp','ring')):\n",
    "    os.makedirs(os.path.join('tmp','ring'))"
   ]
  },
  {
   "cell_type": "code",
   "execution_count": 87,
   "id": "863ff0ab",
   "metadata": {},
   "outputs": [],
   "source": [
    "sample_no = 1500 # Number of samples that the dataset will contain\n",
    "gap = 0.9 # Gap space for the separation between classes, \n",
    "            # in a scale from -1 to 1"
   ]
  },
  {
   "cell_type": "code",
   "execution_count": 88,
   "id": "c66339dc",
   "metadata": {},
   "outputs": [
    {
     "data": {
      "text/plain": [
       "<bspytasks.ring.data.RingDatasetGenerator at 0x2052782b5e0>"
      ]
     },
     "execution_count": 88,
     "metadata": {},
     "output_type": "execute_result"
    }
   ],
   "source": [
    "RingDatasetGenerator(sample_no, gap, save_dir=os.path.join('tmp','ring'))"
   ]
  },
  {
   "cell_type": "markdown",
   "id": "349196d2",
   "metadata": {},
   "source": [
    "The code generated a new file in the folder 3.finding_functionality"
   ]
  },
  {
   "cell_type": "code",
   "execution_count": 89,
   "id": "9fb8303e",
   "metadata": {},
   "outputs": [
    {
     "data": {
      "text/plain": [
       "['input_data_gap_0.9']"
      ]
     },
     "execution_count": 89,
     "metadata": {},
     "output_type": "execute_result"
    }
   ],
   "source": [
    "os.listdir(os.path.join('tmp','ring'))"
   ]
  },
  {
   "cell_type": "markdown",
   "id": "d8607236",
   "metadata": {},
   "source": [
    "We can load the data that was just generated:"
   ]
  },
  {
   "cell_type": "code",
   "execution_count": 90,
   "id": "6328c5a1",
   "metadata": {},
   "outputs": [
    {
     "data": {
      "text/plain": [
       "['inputs', 'targets', 'gap']"
      ]
     },
     "execution_count": 90,
     "metadata": {},
     "output_type": "execute_result"
    }
   ],
   "source": [
    "# This line creates a path with the correct / or \\ lines, depending on \n",
    "# your operating system\n",
    "\n",
    "data_dir = os.path.join('tmp','ring','input_data_gap_'+str(gap))\n",
    "\n",
    "ring_data = torch.load(data_dir, map_location=torch.device('cpu'))\n",
    "\n",
    "list(ring_data)"
   ]
  },
  {
   "cell_type": "markdown",
   "id": "7b96821b",
   "metadata": {},
   "source": [
    "And have a look at it:"
   ]
  },
  {
   "cell_type": "code",
   "execution_count": 91,
   "id": "c5f7a4af",
   "metadata": {},
   "outputs": [
    {
     "data": {
      "image/png": "[encoded data removed]",
      "text/plain": [
       "<Figure size 432x288 with 1 Axes>"
      ]
     },
     "metadata": {
      "needs_background": "light"
     },
     "output_type": "display_data"
    }
   ],
   "source": [
    "plot_inputs(ring_data,'Full dataset')\n",
    "plt.legend()\n",
    "plt.show()"
   ]
  },
  {
   "cell_type": "markdown",
   "id": "edfb2d8d",
   "metadata": {},
   "source": [
    "## 3. Configurations for the exercise"
   ]
  },
  {
   "cell_type": "markdown",
   "id": "c92a3a19",
   "metadata": {},
   "source": [
    "The configurations for brains-py are used in yaml format. This formats allows to easily store/read all needed configurations in a file, as well as loading them as a configuration file. "
   ]
  },
  {
   "cell_type": "code",
   "execution_count": 92,
   "id": "c859b6a8",
   "metadata": {},
   "outputs": [],
   "source": [
    "configs = {\n",
    "    #This variable specifies the number of attempts that will use in order to try to find a particular gate on the DNPU.\n",
    "    'results_dir': 'tmp', # It determines where the results of the experiments will be saved. \n",
    "}"
   ]
  },
  {
   "cell_type": "markdown",
   "id": "fe1e0de4",
   "metadata": {},
   "source": [
    "For this exercise, there is a need to create some configurations to load the dataset that we just created."
   ]
  },
  {
   "cell_type": "code",
   "execution_count": 93,
   "id": "f4b7f792",
   "metadata": {},
   "outputs": [],
   "source": [
    "data = {\n",
    "    'load' : data_dir, # Whether to load the ring data from a given directory or not \n",
    "    # If load is false, it generates a new dataset. If load is a path to the data, it loads it to the data\n",
    "    #In this case, corrsig_fit will be used, which uses pearsons correlation and a sigmoid function to determine the fitness.\n",
    "\n",
    "    'split_percentages' : [0.6,0.2,0.2], # The data is divided into training, validation and test datasets respectively\n",
    "\n",
    "    'batch_size': 512, # Number of samples from the dataset that will be loaded at a time.\n",
    "\n",
    "    'worker_no': 0, # How many subprocesses to use for data loading. 0 means that the data \n",
    "                   # will be loaded in the main process. (default: 0). Good practice 4 per GPU.\n",
    "                   \n",
    "    'pin_memory': True # If True, the data loader will copy Tensors into CUDA pinned memory before\n",
    "                       # returning them. If your data elements are a custom type, or your collate_fn \n",
    "                       # returns a batch that is a custom type.\n",
    "}\n",
    "\n",
    "configs['data'] = data"
   ]
  },
  {
   "cell_type": "markdown",
   "id": "0e643fe5",
   "metadata": {},
   "source": [
    "Alternatively, you can set the configurations as follows, to generate a new dataset each time it is run. They have been commented out, because this example only covers data generated on your own. Feel free to play around with it."
   ]
  },
  {
   "cell_type": "code",
   "execution_count": 94,
   "id": "b5f83112",
   "metadata": {},
   "outputs": [],
   "source": [
    "# data = {\n",
    "#     'gap' : 0.5, # Gap space for the separation between classes, \n",
    "#                  # in a scale from -1 to 1\n",
    "#     'sample_no': 5000, # Number of samples that the dataset will contain\n",
    "#     'load' : False,\n",
    "#     'load' : data_dir, # Whether to load the ring data from a given directory or not \n",
    "#     # If load is false, it generates a new dataset. If load is a path to the data, it loads it to the data\n",
    "#     #In this case, corrsig_fit will be used, which uses pearsons correlation and a sigmoid function to determine the fitness.\n",
    "#     'split_percentages' : [0.6,0.2,0.2], # The data is divided into training, validation and test datasets respectively\n",
    "#     'batch_size': 512, # Number of samples from the dataset that will be loaded at a time.\n",
    "#     'worker_no': 0, # How many subprocesses to use for data loading. 0 means that the data \n",
    "#                    # will be loaded in the main process. (default: 0). Good practice 4 per GPU.\n",
    "#     'pin_memory': True # If True, the data loader will copy Tensors into CUDA pinned memory before\n",
    "#                        # returning them. If your data elements are a custom type, or your collate_fn \n",
    "#                        # returns a batch that is a custom type.\n",
    "# }\n",
    "# \n",
    "# configs['data'] = data"
   ]
  },
  {
   "cell_type": "markdown",
   "id": "856d2de9",
   "metadata": {},
   "source": [
    "For this exercise the gradient descent will be used along with a surrogate model. The configurations can be set as follows:"
   ]
  },
  {
   "cell_type": "code",
   "execution_count": 47,
   "id": "6002a7c2",
   "metadata": {},
   "outputs": [],
   "source": [
    "algorithm_configs = {\n",
    "    'type' : 'gradient', # Type of algorithm. It can either be 'genetic' or 'gradient'\n",
    "\n",
    "    'criterion' : 'fisher', # What type of fitness function will be used for training. \n",
    "\n",
    "    #In this case, negative fisher will be used, to maximise separability between classes.\n",
    "    'epochs' : 500, # Number of generations that will be used for the algorithm. (Number of loops)\n",
    "\n",
    "    'learning_rate': 0.001, # Step size at each iteration while moving toward the minimum of the loss function\n",
    "    'optimizer': \"adam\", # Optimisation algorithm to be used. \n",
    "                        # In this case, Adam (https://arxiv.org/abs/1412.6980)\n",
    "                        \n",
    "    'constraint_control_voltages': \"regul\", # regul or clip\n",
    "    'return_best_model': True\n",
    "}\n",
    "\n",
    "configs['algorithm'] = algorithm_configs"
   ]
  },
  {
   "cell_type": "markdown",
   "id": "9628517c",
   "metadata": {},
   "source": [
    "Note that it can only be ensured that the model will behave as intended, while maintaining itself within the activation electrode ranges with which the surrogate model was created. In order to ensure that the optimisation does not go outside these ranges, there are two different modes:\n",
    " - 'regul': Applies a regularisation value to the result of the loss whenever the control voltage values are outside the voltage ranges with which they were trained.\n",
    " - 'clip': Applies a clipping to the control voltages, whenver they are outside the voltage ranges with which they were trained."
   ]
  },
  {
   "cell_type": "markdown",
   "id": "7d9b0cb7",
   "metadata": {},
   "source": [
    "In order to train the ring classification problem, the negative fisher function was selected. This criterion maximises the separability between two classes. However, it is difficult to know in advance at which output current levels will be the found solution. In order to have more information about the quality of the output, a simple perceptron, consisting of a linear layer and a sigmoid is trained on the normalised output. The perceptrons linear layer, will determine a threshold at which an output can be considered either 0 or 1. By comparing the final result 0 or 1 against the original label, the information of the accuracy can be calculated. This is done by counting the number of correctly classified inputs, against the total number of inputs.  "
   ]
  },
  {
   "cell_type": "code",
   "execution_count": 48,
   "id": "b0235e99",
   "metadata": {},
   "outputs": [],
   "source": [
    "perceptron_configs = {\n",
    "    'epochs' : 600, # Number of epochs used to train the perceptron classifier\n",
    "\n",
    "    'learning_rate': 0.01, # Learning rate at which the perceptron classifier will be trained\n",
    "    \n",
    "    'batch_size': 512 # Batch size at which the perceptron classifier will be trained\n",
    "}\n",
    "configs['accuracy'] = perceptron_configs\n",
    "# configs[\"return_best_model\"] = True"
   ]
  },
  {
   "cell_type": "markdown",
   "id": "36e21631",
   "metadata": {},
   "source": [
    "The last part of the configurations are related to the drivers used for a particular setup. It is important to ensure that electrodes are connected to the DNPU correctly, you can double check the last schematic with its connections to the corresponing National Instruments device."
   ]
  },
  {
   "cell_type": "code",
   "execution_count": 49,
   "id": "947b144c",
   "metadata": {},
   "outputs": [],
   "source": [
    "processor_configs = {\n",
    "    \"processor_type\" : 'simulation', # In this case, we are using a processor for simulation purp\n",
    "\n",
    "    'model_dir': 'surrogate_model/training_data.pt',\n",
    "\n",
    "    'input_indices': [2,3],\n",
    "    \n",
    "    'waveform': {\n",
    "        'plateau_length': 1,\n",
    "        'slope_length': 0\n",
    "    },\n",
    "    'electrode_effects':{\n",
    "        'type' :  'gaussian',\n",
    "        'variance': 2\n",
    "    }\n",
    "}\n",
    "configs['processor'] = processor_configs"
   ]
  },
  {
   "cell_type": "markdown",
   "id": "bccae18b",
   "metadata": {},
   "source": [
    "# 4. Creating a custom model"
   ]
  },
  {
   "cell_type": "markdown",
   "id": "cc0f838e",
   "metadata": {},
   "source": [
    "Brains-py allows a very flexible implementation of different simulation circuits by leveraging PyTorch's nn.Module architecture. For this reason, the expected usage of brains-py is by creating a custom nn.Module that suits your needs. For the particular example covered in this notebook, we will be using a direct connection to the hardware device. \n",
    "\n",
    "For this, we can almost directly use the class DNPU, which is an instance of a nn.Module of PyTorch. The DNPU class enables to declare control voltages as learnable parameters, and can be integrated with the genetic algorithm in order to find best voltages on hardware. The DNPU class supports to have the same processor acting as if it was many processors in a time-multiplexed manner. However, for this example we would be only using a single DNPU. We will pass the information about the input indices using the configs flag the we added previously, 'input_indices'.\n",
    "\n",
    "We also want the Processor class to internally contain an instance of HardwareProcessor. This is done by specifying the processor_type flag in the configs of the processor. Note that for simulation instances of the processor, an info dictionary is also required. We can directly initialise a such an instance of processor by just calling Processor(configs). \n",
    "\n",
    "More information about the Processor structure, and how it is implemented in brains-py can be found in https://github.com/BraiNEdarwin/brains-py/wiki/B.-Package-description\n",
    "\n",
    "More information about the info dictionary can be found in the wiki of brainspy-smg. "
   ]
  },
  {
   "cell_type": "code",
   "execution_count": 50,
   "id": "34f0dfb5",
   "metadata": {},
   "outputs": [],
   "source": [
    "from brainspy.processors.dnpu import DNPU\n",
    "from brainspy.processors.processor import Processor\n",
    "from brainspy.utils.pytorch import TorchUtils \n",
    "\n",
    "class DefaultCustomModel(DNPU):\n",
    "    \n",
    "    def __init__(self, configs):\n",
    "        # For this simple example, we just need a simple instance of a DNPU, but where input indices are defined \n",
    "        # already in the configs. The input indices are the electrodes that will be receiving the two dimensional\n",
    "        # data for the boolean gates task. \n",
    "        \n",
    "        # In order to load a surrogate model, the data can be extracted from the training_data.pt\n",
    "        # generated during the training with the smg. \n",
    "        \n",
    "        model_data = torch.load(configs['model_dir'],\n",
    "                                map_location=TorchUtils.get_device())\n",
    "        \n",
    "        # This data contains the info dictionary, required to know, among other things,\n",
    "        # the structure used in the neural network for training the device \n",
    "        # (In this example 5 layers of 90 nodes each, with ReLU as activation function).\n",
    "        # Additionally, this file contains the model_state_dict, which\n",
    "        # contains the weight values for the trained neural network simulating the DNPU.\n",
    "        \n",
    "        # The following line, is very similar to that used for initialising the hardware in notebook\n",
    "        # number 2. But it now contains the info dictionary and the model_state_dict keys.\n",
    "        super(DefaultCustomModel, self).__init__(Processor(configs, model_data['info'], model_data['model_state_dict']), [configs['input_indices']])\n",
    "        \n",
    "        # Additonally, we know that the data that we will be receiving for our example will be in a range from -1 to 1.\n",
    "        # brains-py supports automatic transformation of the inputs, to the voltage ranges of the selected input indices.\n",
    "        # This is done with the following line:\n",
    "        self.add_input_transform([-1, 1])"
   ]
  },
  {
   "cell_type": "markdown",
   "id": "c69560a8",
   "metadata": {},
   "source": [
    "# 5. Finding a solution"
   ]
  },
  {
   "cell_type": "code",
   "execution_count": 51,
   "id": "2e5b46aa",
   "metadata": {},
   "outputs": [],
   "source": [
    "from brainspy.utils import manager\n",
    "\n",
    "criterion = manager.get_criterion(configs[\"algorithm\"]['criterion'])\n",
    "algorithm = manager.get_algorithm(configs[\"algorithm\"]['type'])"
   ]
  },
  {
   "cell_type": "code",
   "execution_count": 52,
   "id": "4b3ca70d",
   "metadata": {},
   "outputs": [],
   "source": [
    "from bspytasks.ring.tasks.classifier import get_ring_data\n",
    "\n",
    "dataloaders = get_ring_data(configs)"
   ]
  },
  {
   "cell_type": "code",
   "execution_count": 53,
   "id": "cdcc77dd",
   "metadata": {},
   "outputs": [
    {
     "name": "stderr",
     "output_type": "stream",
     "text": [
      "c:\\users\\unai\\documents\\programming\\brains-py\\brainspy\\processors\\simulation\\noise\\noise.py:97: UserWarning: No noise is being simulated for the model.\n",
      "  warnings.warn(\"No noise is being simulated for the model.\")\n",
      "c:\\users\\unai\\documents\\programming\\brains-py\\brainspy\\utils\\waveform.py:78: UserWarning: Slope Length is 0\n",
      "  warnings.warn(\"Slope Length is 0\")\n",
      "Training Loss: -1.497903.. Validation Loss: -1.408541..  Saving model ...:   0%|               | 0/500 [00:00<?, ?it/s]"
     ]
    },
    {
     "name": "stdout",
     "output_type": "stream",
     "text": [
      "==========================================================================================\n",
      "GAP: 0.9\n"
     ]
    },
    {
     "name": "stderr",
     "output_type": "stream",
     "text": [
      "Training Loss: -5.777051.. Validation Loss: -5.238837.. : 100%|██████████████████████| 500/500 [00:26<00:00, 18.77it/s]\n",
      "Training perceptron: Epoch: 599  Accuracy 98.11111111111111, running loss: 0.040977730883492366: 100%|█| 600/600 [00:11\n"
     ]
    },
    {
     "name": "stdout",
     "output_type": "stream",
     "text": [
      "Train accuracy: 98.11111450195312\n",
      "Validation accuracy: 97.0\n",
      "Test accuracy: 96.0\n",
      "==========================================================================================\n"
     ]
    }
   ],
   "source": [
    "from bspytasks.ring.tasks.classifier import ring_task\n",
    "\n",
    "results, trained_model, results_dir = ring_task(configs, dataloaders, DefaultCustomModel, criterion, algorithm)"
   ]
  },
  {
   "cell_type": "markdown",
   "id": "05716cfb",
   "metadata": {},
   "source": [
    "The classifier produces a resutls dictionary, containing all the information produced while trianing, the raw trained model, and the directory where the resutls dictionary has been saved."
   ]
  },
  {
   "cell_type": "code",
   "execution_count": 54,
   "id": "4d7aeb54",
   "metadata": {},
   "outputs": [
    {
     "data": {
      "text/plain": [
       "dict_keys(['gap', 'train_results', 'dev_results', 'test_results'])"
      ]
     },
     "execution_count": 54,
     "metadata": {},
     "output_type": "execute_result"
    }
   ],
   "source": [
    "results.keys()"
   ]
  },
  {
   "cell_type": "code",
   "execution_count": 55,
   "id": "5396f471",
   "metadata": {},
   "outputs": [
    {
     "data": {
      "text/plain": [
       "dict_keys(['performance', 'inputs', 'inputs_wvfrm', 'targets', 'targets_wvfrm', 'best_output', 'accuracy', 'correlation', 'performance_history'])"
      ]
     },
     "execution_count": 55,
     "metadata": {},
     "output_type": "execute_result"
    }
   ],
   "source": [
    "results['train_results'].keys()"
   ]
  },
  {
   "cell_type": "markdown",
   "id": "ad1545eb",
   "metadata": {},
   "source": [
    " - performance \n",
    " - inputs\n",
    " - targets\n",
    " - best_output\n",
    " - accuracy\n",
    " - correlation\n",
    " - performance_history"
   ]
  },
  {
   "cell_type": "code",
   "execution_count": 56,
   "id": "64696c88",
   "metadata": {},
   "outputs": [
    {
     "data": {
      "text/plain": [
       "tensor([[-0.3054,  0.5435,  0.4953, -0.4861, -0.2277]], device='cuda:0')"
      ]
     },
     "execution_count": 56,
     "metadata": {},
     "output_type": "execute_result"
    }
   ],
   "source": [
    "trained_model.get_control_voltages()"
   ]
  },
  {
   "cell_type": "code",
   "execution_count": 57,
   "id": "ed3608d0",
   "metadata": {},
   "outputs": [
    {
     "data": {
      "text/plain": [
       "dict_keys(['gap', 'train_results', 'dev_results', 'test_results'])"
      ]
     },
     "execution_count": 57,
     "metadata": {},
     "output_type": "execute_result"
    }
   ],
   "source": [
    "results.keys()"
   ]
  },
  {
   "cell_type": "markdown",
   "id": "98d45944",
   "metadata": {},
   "source": [
    "The information produced during the training of the classifier is stored in the following directory: "
   ]
  },
  {
   "cell_type": "code",
   "execution_count": 58,
   "id": "349c2f8c",
   "metadata": {},
   "outputs": [
    {
     "data": {
      "text/plain": [
       "'tmp\\\\ring_classification_gap_0.9_2022_08_23_164502'"
      ]
     },
     "execution_count": 58,
     "metadata": {},
     "output_type": "execute_result"
    }
   ],
   "source": [
    "results_dir"
   ]
  },
  {
   "cell_type": "markdown",
   "id": "6664ea26",
   "metadata": {},
   "source": [
    "The information that running the classifier produces is divided into two main folders: results and reproducibility."
   ]
  },
  {
   "cell_type": "code",
   "execution_count": 59,
   "id": "e80b7e79",
   "metadata": {
    "scrolled": true
   },
   "outputs": [
    {
     "data": {
      "text/plain": [
       "['reproducibility', 'results']"
      ]
     },
     "execution_count": 59,
     "metadata": {},
     "output_type": "execute_result"
    }
   ],
   "source": [
    "os.listdir(results_dir)"
   ]
  },
  {
   "cell_type": "markdown",
   "id": "17dc071f",
   "metadata": {},
   "source": [
    "# 6. Analysing results"
   ]
  },
  {
   "cell_type": "code",
   "execution_count": 60,
   "id": "70da5775",
   "metadata": {},
   "outputs": [
    {
     "data": {
      "text/plain": [
       "['dev_accuracy.jpg',\n",
       " 'Dev_output.png',\n",
       " 'input.png',\n",
       " 'test_accuracy.jpg',\n",
       " 'Test_output.png',\n",
       " 'training_profile.png',\n",
       " 'train_accuracy.jpg',\n",
       " 'Train_output.png']"
      ]
     },
     "execution_count": 60,
     "metadata": {},
     "output_type": "execute_result"
    }
   ],
   "source": [
    "os.listdir(os.path.join(results_dir,'results') )"
   ]
  },
  {
   "cell_type": "code",
   "execution_count": 61,
   "id": "3d0a844e",
   "metadata": {},
   "outputs": [
    {
     "data": {
      "text/html": [
       "<img src=\"tmp\\ring_classification_gap_0.9_2022_08_23_164502\\results\\training_profile.png\"/>"
      ],
      "text/plain": [
       "<IPython.core.display.Image object>"
      ]
     },
     "execution_count": 61,
     "metadata": {},
     "output_type": "execute_result"
    }
   ],
   "source": [
    "Image(url= os.path.join(os.path.join(results_dir,'results'), \"training_profile.png\"))"
   ]
  },
  {
   "cell_type": "code",
   "execution_count": 62,
   "id": "8b729716",
   "metadata": {},
   "outputs": [
    {
     "data": {
      "text/html": [
       "<img src=\"tmp\\ring_classification_gap_0.9_2022_08_23_164502\\results\\train_accuracy.jpg\"/>"
      ],
      "text/plain": [
       "<IPython.core.display.Image object>"
      ]
     },
     "execution_count": 62,
     "metadata": {},
     "output_type": "execute_result"
    }
   ],
   "source": [
    "Image(url= os.path.join(os.path.join(results_dir,'results'), \"train_accuracy.jpg\"))"
   ]
  },
  {
   "cell_type": "code",
   "execution_count": 63,
   "id": "7aa122bf",
   "metadata": {},
   "outputs": [
    {
     "data": {
      "text/html": [
       "<img src=\"tmp\\ring_classification_gap_0.9_2022_08_23_164502\\results\\train_output.png\"/>"
      ],
      "text/plain": [
       "<IPython.core.display.Image object>"
      ]
     },
     "execution_count": 63,
     "metadata": {},
     "output_type": "execute_result"
    }
   ],
   "source": [
    "Image(url= os.path.join(os.path.join(results_dir,'results'), \"train_output.png\"))"
   ]
  },
  {
   "cell_type": "markdown",
   "id": "04f957ce",
   "metadata": {},
   "source": [
    "Similar images are produced for the validation (dev), and test datasets. These can be found and plotted in the same way."
   ]
  },
  {
   "cell_type": "markdown",
   "id": "7faabdbd",
   "metadata": {},
   "source": [
    "# 7. Reproducing results"
   ]
  },
  {
   "cell_type": "markdown",
   "id": "a70a1637",
   "metadata": {},
   "source": [
    "The files needed for reproducing the results are stored in the reproducibility directory. This includes a raw image of the best model and the model in the last training epoch. These are raw models that can be loaded directly and contain an instance of a class. This way of loading devices is faster (only requires torch.load('best_model_raw.pt'), but not officially recommended by pytorch, as it requires a copy of the code for the model delcaration (in this case, DefaultCustomModel). If you experience problems loading data in this way, you can also load it in the recommended way, using best_training_data.pickle, that contains the model_state_dict with all the learnable parameters for the classifier. In addition to these files, the original configurations of the exercise are available as 'configs.yaml', and the results for training the exercise are stored as 'results.pickle'."
   ]
  },
  {
   "cell_type": "code",
   "execution_count": 64,
   "id": "fc84e24c",
   "metadata": {},
   "outputs": [
    {
     "data": {
      "text/plain": [
       "['best_model_raw.pt',\n",
       " 'best_training_data.pickle',\n",
       " 'configs.yaml',\n",
       " 'model_raw.pt',\n",
       " 'results.pickle',\n",
       " 'training_data.pickle']"
      ]
     },
     "execution_count": 64,
     "metadata": {},
     "output_type": "execute_result"
    }
   ],
   "source": [
    "os.listdir(os.path.join(results_dir,'reproducibility') )"
   ]
  },
  {
   "cell_type": "markdown",
   "id": "fac988af",
   "metadata": {},
   "source": [
    "You can load the exact same configurations as those used in the exercise by executing the following line:"
   ]
  },
  {
   "cell_type": "code",
   "execution_count": 65,
   "id": "e3c107c7",
   "metadata": {},
   "outputs": [],
   "source": [
    "reloaded_configs = load_configs(os.path.join(results_dir,'reproducibility','configs.yaml'))"
   ]
  },
  {
   "cell_type": "markdown",
   "id": "5cf40ad7",
   "metadata": {},
   "source": [
    "Below, you can find an example on how a model can be loaded in the recommended way. Note that after loading the state dictionary, the control voltages are the same as those found in the solution. More information about loading models in pytorch can be found here: https://pytorch.org/tutorials/recipes/recipes/what_is_state_dict.html#:~:text=What%20is%20a%20state_dict%20in%20PyTorch%20In%20PyTorch%2C,that%20maps%20each%20layer%20to%20its%20parameter%20tensor."
   ]
  },
  {
   "cell_type": "code",
   "execution_count": 66,
   "id": "b12015a4",
   "metadata": {},
   "outputs": [],
   "source": [
    "training_data = torch.load(os.path.join(results_dir,'reproducibility','best_training_data.pickle'), map_location=TorchUtils.get_device())"
   ]
  },
  {
   "cell_type": "code",
   "execution_count": 67,
   "id": "6869f7de",
   "metadata": {},
   "outputs": [
    {
     "data": {
      "text/plain": [
       "tensor([[-0.3054,  0.5435,  0.4953, -0.4861, -0.2277]], device='cuda:0')"
      ]
     },
     "execution_count": 67,
     "metadata": {},
     "output_type": "execute_result"
    }
   ],
   "source": [
    "training_data['model_state_dict']['control_voltages']"
   ]
  },
  {
   "cell_type": "code",
   "execution_count": 68,
   "id": "c5a57db5",
   "metadata": {},
   "outputs": [
    {
     "name": "stderr",
     "output_type": "stream",
     "text": [
      "c:\\users\\unai\\documents\\programming\\brains-py\\brainspy\\processors\\simulation\\noise\\noise.py:97: UserWarning: No noise is being simulated for the model.\n",
      "  warnings.warn(\"No noise is being simulated for the model.\")\n",
      "c:\\users\\unai\\documents\\programming\\brains-py\\brainspy\\utils\\waveform.py:78: UserWarning: Slope Length is 0\n",
      "  warnings.warn(\"Slope Length is 0\")\n"
     ]
    },
    {
     "data": {
      "text/plain": [
       "tensor([[ 0.0919, -0.3405, -0.9884,  0.4016,  0.1767]])"
      ]
     },
     "execution_count": 68,
     "metadata": {},
     "output_type": "execute_result"
    }
   ],
   "source": [
    "reloaded_model = DefaultCustomModel(reloaded_configs['processor'])\n",
    "# The model is initialised with random control voltages\n",
    "reloaded_model.get_control_voltages()"
   ]
  },
  {
   "cell_type": "code",
   "execution_count": 69,
   "id": "a1287557",
   "metadata": {},
   "outputs": [
    {
     "data": {
      "text/plain": [
       "tensor([[-0.3054,  0.5435,  0.4953, -0.4861, -0.2277]])"
      ]
     },
     "execution_count": 69,
     "metadata": {},
     "output_type": "execute_result"
    }
   ],
   "source": [
    "reloaded_model.load_state_dict(training_data['model_state_dict'])\n",
    "# The model is loaded with the correct control voltages from the best solution found\n",
    "reloaded_model.get_control_voltages()"
   ]
  },
  {
   "cell_type": "markdown",
   "id": "08aceb57",
   "metadata": {},
   "source": [
    "The same results as those returned by the trainer can also be loaded again:"
   ]
  },
  {
   "cell_type": "code",
   "execution_count": 70,
   "id": "f12911ba",
   "metadata": {},
   "outputs": [],
   "source": [
    "loaded_results = torch.load(os.path.join(results_dir,'reproducibility','results.pickle'), map_location=TorchUtils.get_device())"
   ]
  },
  {
   "cell_type": "code",
   "execution_count": 71,
   "id": "b1f1feca",
   "metadata": {},
   "outputs": [
    {
     "data": {
      "text/plain": [
       "dict_keys(['gap', 'train_results', 'dev_results', 'test_results'])"
      ]
     },
     "execution_count": 71,
     "metadata": {},
     "output_type": "execute_result"
    }
   ],
   "source": [
    "loaded_results.keys()"
   ]
  },
  {
   "cell_type": "markdown",
   "id": "5d4422a5",
   "metadata": {},
   "source": [
    "# 8. Validating results in hardware"
   ]
  },
  {
   "cell_type": "markdown",
   "id": "87940220",
   "metadata": {},
   "source": [
    "**Read this carefully before continuing with the notebook**\n",
    "\n",
    "This notebook has created to be run on BRAINS computer. The computer should be connected to the National Instruments setup consisting of a chassis and several modules. The setup should be connected to a hardware device. If you not running this test in a BRAINS computer, you should change the configurations according to how your national instruments are connected. The names of the national instruments modules can be checked on the NI MAX tool. The following values should at least be updated when in a new computer with different modules (you can jump directly to the following cell):\n",
    "\n",
    "* \"trigger_source\": \"cDAQ1/segment1\", # This particular one makes reference to the NI Chassis allocated at cDAQ1, and the trigger source segment1. Find the different triggers you can use with your own NI module in the NI MAX tools. \n",
    "* \"activation_instrument\": \"cDAQ1Mod3\", # This refers to the module of the chassis that will be used for sending inputs to the device, in this case Mod3\n",
    "* \"activation channels\": [0,1,2,3,4,5,6], # Typically the 7 activation electrode inputs, as connected to the national instruments setup \n",
    "* \"readout_instrument\": \"cDAQ1Mod4\", # This refers to the module of the chassis that will be used for readoung outputs from the device, in this case Mod4\n",
    "* \"readout_channels\": [0] # Typically the single readout electrode of the device"
   ]
  },
  {
   "cell_type": "code",
   "execution_count": 72,
   "id": "78061dfe",
   "metadata": {},
   "outputs": [],
   "source": [
    "import matplotlib.pyplot as plt"
   ]
  },
  {
   "cell_type": "code",
   "execution_count": 73,
   "id": "8d094c44",
   "metadata": {},
   "outputs": [],
   "source": [
    "# HARDWARE_MODE\n",
    "TRIGGER_SOURCE = 'cDAQ2'\n",
    "ACTIVATION_INSTRUMENT = 'cDAQ2Mod3'\n",
    "ACTIVATION_CHANNELS = [14, 7, 13, 8, 10, 11, 12] #[0,2,5,3,1,6,4]\n",
    "READOUT_INSTRUMENT = 'cDAQ2Mod8'\n",
    "READOUT_CHANNELS = [2]"
   ]
  },
  {
   "cell_type": "code",
   "execution_count": 78,
   "id": "b0c9de28",
   "metadata": {},
   "outputs": [],
   "source": [
    "hw_processor_configs = {\n",
    "    \"processor_type\" : 'cdaq_to_cdaq', # There are four different processor types: 'simulation', 'cdaq_to_cdaq', 'cdaq_to_nidaq', 'simulation_debug'. The first \n",
    "    'input_indices': [2,3], # It specifies what indices will be taken as data input. These correspond to the indices of the activation channels inside the instruments setup configuration. \n",
    "    'waveform': { # The waveform determines the number of points that will be used to represent a single point. More information about waveforms can be found at Section 5.1 Waveforms: https://github.com/BraiNEdarwin/brains-py/wiki/A.-Introduction\n",
    "        'plateau_length' : 50, \n",
    "        'slope_length' : 50\n",
    "    }\n",
    "}"
   ]
  },
  {
   "cell_type": "code",
   "execution_count": 79,
   "id": "98c6ac95",
   "metadata": {},
   "outputs": [],
   "source": [
    "driver_configs = {\n",
    "        'inverted_output': True, # Whether if the op-amp circuit to amplify the output of the DNPU applies an inversion or not.\n",
    "        'amplification': [28], # Indicates the amplification correction factor that will be applied to obtain the real current measurement from the setup. More information about this can be found in Section 5.3 of the introduction of brains-py wiki: https://github.com/BraiNEdarwin/brains-py/wiki/A.-Introduction\n",
    "        'instruments_setup':{ \n",
    "            'multiple_devices': False, # Indicates whether if the setup is using a PCB with multiple devices or not.\n",
    "            'trigger_source': TRIGGER_SOURCE, # Triggering signal to be sent for reading synchronisation. You can check for this signal for your setup on the NIMax app.\n",
    "            'average_io_point_difference': True, # If number of points read from the device is different from the number of points written to the device due to a difference in their\n",
    "                                                # sampling frequencies, this variable indicates if there should be an averaging so that the input and output have the same length.\n",
    "            'activation_instrument': ACTIVATION_INSTRUMENT, # Main module used for sending voltage signals to the DNPU \n",
    "            'activation_sampling_frequency': 1000, # Number of samples that will be written to the DNPU in one second.\n",
    "            'activation_channels': [6,0,1,5,2,4,3], # Channels of the module that will be used for sending signals the device. \n",
    "            'activation_voltage_ranges': # Maximum minimum and maximum voltage ranges that will be allowed to be sent to the DNPU, per electrode. Dimensions (Electrode_no, 2)\n",
    "              [ [-0.3500,  0.1500],\n",
    "                [-1.2000,  0.8000],\n",
    "                [-1.2000,  1.2000],\n",
    "                [-1.2000,  1.2000],\n",
    "                [-1.2000,  1.2000],\n",
    "                [-1.2000,  0.8000],\n",
    "                [-0.3500,  0.2000]\n",
    "              ],\n",
    "            'readout_instrument': READOUT_INSTRUMENT, # Main module used for receiving voltage signals from the DNPU (after the op-amp) \n",
    "            'readout_sampling_frequency': 2000, # Number of samples that will be read from the DNPU in one second\n",
    "            'readout_channels': [0], # Channels of the module that will be used for reading signals from the device. \n",
    "            'activation_channel_mask': [1, 1, 1, 1, 1, 1, 1] # Whether if all the channels connected to the device electrodes would be used or not. 1 for enabling its use, 0 for disabling it. When disabled, the channels will not be declared.\n",
    "        }\n",
    "    \n",
    "}\n",
    "hw_processor_configs['driver'] = driver_configs"
   ]
  },
  {
   "cell_type": "markdown",
   "id": "db667552",
   "metadata": {},
   "source": [
    "Once the configurations for the hardware are ready, we need to fetch the original info dictionary"
   ]
  },
  {
   "cell_type": "code",
   "execution_count": 80,
   "id": "4afcf86d",
   "metadata": {},
   "outputs": [
    {
     "name": "stdout",
     "output_type": "stream",
     "text": [
      "DAC sampling frequency: 1000\n",
      "ADC sampling frequency: 2000\n",
      "DAC/ADC point difference: 2\n",
      "Max ramping time: 0.1 seconds. \n"
     ]
    }
   ],
   "source": [
    "reloaded_model.hw_eval(hw_processor_configs)"
   ]
  },
  {
   "cell_type": "code",
   "execution_count": 81,
   "id": "1025f4f4",
   "metadata": {},
   "outputs": [],
   "source": [
    "inputs = loaded_results['train_results']['inputs']\n",
    "model_predictions = loaded_results['train_results']['best_output']"
   ]
  },
  {
   "cell_type": "code",
   "execution_count": 82,
   "id": "50e536da",
   "metadata": {},
   "outputs": [],
   "source": [
    "hw_predictions = reloaded_model(inputs)"
   ]
  },
  {
   "cell_type": "code",
   "execution_count": 83,
   "id": "ce5e67da",
   "metadata": {},
   "outputs": [
    {
     "data": {
      "text/plain": [
       "torch.Size([900, 1])"
      ]
     },
     "execution_count": 83,
     "metadata": {},
     "output_type": "execute_result"
    }
   ],
   "source": [
    "hw_predictions.shape"
   ]
  },
  {
   "cell_type": "code",
   "execution_count": 84,
   "id": "7cee7279",
   "metadata": {
    "scrolled": true
   },
   "outputs": [
    {
     "data": {
      "image/png": "[encoded data removed]",
      "text/plain": [
       "<Figure size 432x288 with 1 Axes>"
      ]
     },
     "metadata": {
      "needs_background": "light"
     },
     "output_type": "display_data"
    }
   ],
   "source": [
    "plt.plot(TorchUtils.to_numpy(model_predictions), label='model_predictions')\n",
    "plt.plot(TorchUtils.to_numpy(hw_predictions), label='hw_predictions')\n",
    "plt.legend()\n",
    "plt.show()"
   ]
  },
  {
   "cell_type": "code",
   "execution_count": 70,
   "id": "a84f251c",
   "metadata": {},
   "outputs": [],
   "source": [
    "reloaded_model.close()"
   ]
  },
  {
   "cell_type": "code",
   "execution_count": 45,
   "id": "13c23003",
   "metadata": {},
   "outputs": [
    {
     "name": "stdout",
     "output_type": "stream",
     "text": [
      "dict_keys(['epoch', 'model_state_dict', 'info', 'optimizer_state_dict', 'train_losses', 'val_losses', 'min_val_loss', 'test_loss'])\n",
      "{'model_structure': {'hidden_sizes': [90, 90, 90, 90, 90], 'D_in': 7, 'D_out': 1, 'batch_norm': False, 'activation': 'relu'}, 'electrode_info': {'electrode_no': 8, 'activation_electrodes': {'electrode_no': 7, 'voltage_ranges': array([[-0.35      ,  0.15      ],\n",
      "       [-1.2       ,  0.8       ],\n",
      "       [-1.2       ,  1.2       ],\n",
      "       [-1.2       ,  1.2       ],\n",
      "       [-1.2       ,  1.2       ],\n",
      "       [-1.2       ,  0.8       ],\n",
      "       [-0.35000002,  0.2       ]], dtype=float32)}, 'output_electrodes': {'electrode_no': 1, 'amplification': [41], 'clipping_value': [-164, 164]}}, 'training_configs': {'results_base_dir': 'tmp/smg\\\\jupyter_notebook_examples_2022_08_16_171320', 'hyperparameters': {'epochs': 100, 'learning_rate': 0.001}, 'data': {'dataset_paths': ['tmp/smg\\\\jupyter_notebook_examples_2022_08_16_171320\\\\postprocessed_data.npz'], 'split_percentages': [0.8, 0.1, 0.1], 'steps': 3, 'batch_size': 256, 'worker_no': 0, 'pin_memory': False}, 'seed': 1136535208}, 'sampling_configs': {'data_name': 'jupyter_notebook_examples', 'driver': {'amplification': [41], 'auto_start': True, 'instrument_type': 'cdaq_to_cdaq', 'instruments_setup': {'activation_channel_mask': [1, 1, 1, 1, 1, 1, 1], 'activation_channels': [4, 3, 5, 2, 0, 7, 1], 'activation_instrument': 'cDAQ2Mod1', 'activation_sampling_frequency': 5000, 'activation_voltage_ranges': [[-0.35, 0.15], [-1.2, 0.8], [-1.2, 1.2], [-1.2, 1.2], [-1.2, 1.2], [-1.2, 0.8], [-0.35, 0.2]], 'average_io_point_difference': True, 'multiple_devices': False, 'readout_channels': [0], 'readout_instrument': 'cDAQ2Mod8', 'readout_sampling_frequency': 10000, 'trigger_source': 'cDAQ2'}, 'inverted_output': True, 'max_ramping_time_seconds': 0.1, 'offset': 1}, 'input_data': {'activation_electrode_no': 7, 'amplitude': array([0.25 , 1.   , 1.2  , 1.2  , 1.2  , 1.   , 0.275]), 'amplitude_numpy': array([[0.25 ],\n",
      "       [1.   ],\n",
      "       [1.2  ],\n",
      "       [1.2  ],\n",
      "       [1.2  ],\n",
      "       [1.   ],\n",
      "       [0.275]]), 'batch_points': 2500.0, 'batch_time': 0.5, 'input_distribution': 'sawtooth', 'input_frequency': [2, 3, 5, 7, 13, 17, 19], 'input_frequency_numpy': array([[ 7.07106781],\n",
      "       [ 8.66025404],\n",
      "       [11.18033989],\n",
      "       [13.22875656],\n",
      "       [18.02775638],\n",
      "       [20.61552813],\n",
      "       [21.79449472]]), 'number_batches': 3880, 'offset': array([-0.1  , -0.2  ,  0.   ,  0.   ,  0.   , -0.2  , -0.075]), 'offset_numpy': array([[-0.1  ],\n",
      "       [-0.2  ],\n",
      "       [ 0.   ],\n",
      "       [ 0.   ],\n",
      "       [ 0.   ],\n",
      "       [-0.2  ],\n",
      "       [-0.075]]), 'ramp_points': 2000.0, 'ramp_time': 0.4, 'random_phase_shift_each': 1, 'readout_electrode_no': 1, 'sampling_frequency': 5000}, 'save_directory': 'tmp/smg\\\\jupyter_notebook_examples_2022_08_16_171320', 'setup_insights': {'device_comments': 'One electrode might not working properly (Electode works fine, but this is an exaple of how this can be filled).', 'device_material': 'Boron doped silicon', 'gain_info': '50MOhm', 'schematic': '\\t   ao5   ao3   ao4\\n \\t    #     #     #\\n\\tao2 #           # output\\n     \\t    #     #     #\\n\\t   ao0   ao7   ao1\\n', 'setup_name': 'quick'}}}\n"
     ]
    },
    {
     "name": "stderr",
     "output_type": "stream",
     "text": [
      "c:\\users\\unai\\documents\\programming\\brains-py\\brainspy\\processors\\simulation\\noise\\noise.py:97: UserWarning: No noise is being simulated for the model.\n",
      "  warnings.warn(\"No noise is being simulated for the model.\")\n",
      "c:\\users\\unai\\documents\\programming\\brains-py\\brainspy\\utils\\waveform.py:78: UserWarning: Slope Length is 0\n",
      "  warnings.warn(\"Slope Length is 0\")\n"
     ]
    }
   ],
   "source": [
    "from bspysmg.utils.consistency import consistency_check\n",
    "from brainspy.processors.processor import Processor\n",
    "data = torch.load('surrogate_model/training_data.pt')\n",
    "print(data.keys())\n",
    "print(data['info'])\n",
    "configs['processor']['electrode_info'] = {}\n",
    "configs['processor']['electrode_info']['amplification'] = [41]\n",
    "p = Processor(configs['processor'], info=data['info'], model_state_dict=data['model_state_dict'])\n",
    "p = TorchUtils.format(p)\n",
    "data_dir_t = \"C:/Users/Unai/Documents/programming/brainspy-examples/tmp/smg/jupyter_notebook_examples_2022_08_16_171320\"\n"
   ]
  },
  {
   "cell_type": "code",
   "execution_count": 46,
   "id": "f2c24bd8",
   "metadata": {},
   "outputs": [
    {
     "name": "stdout",
     "output_type": "stream",
     "text": [
      "DAC sampling frequency: 5000\n",
      "ADC sampling frequency: 10000\n",
      "DAC/ADC point difference: 2\n",
      "Max ramping time: 0.1 seconds. \n",
      "Start batching...\n",
      "There was an error writing to the activation task: activation_task_2022_08_23_141043_333828\n",
      "The specified resource is reserved. The operation could not be completed as specified.\n",
      "Task Name: activation_task_2022_08_23_141043_333828\n",
      "\n",
      "Status Code: -50103\n"
     ]
    },
    {
     "name": "stderr",
     "output_type": "stream",
     "text": [
      "sys:1: ResourceWarning: unclosed socket <zmq.Socket(zmq.PUSH) at 0x29392333ee0>\n",
      "ResourceWarning: Enable tracemalloc to get the object allocation traceback\n"
     ]
    },
    {
     "name": "stdout",
     "output_type": "stream",
     "text": [
      "Nothing could be read. Stopping program\n",
      "Interruption/Termination signal received. Waiting for the reader to finish.\n",
      "Closing nidaqmx tasks\n"
     ]
    },
    {
     "ename": "SystemExit",
     "evalue": "0",
     "output_type": "error",
     "traceback": [
      "An exception has occurred, use %tb to see the full traceback.\n",
      "\u001b[1;31mSystemExit\u001b[0m\u001b[1;31m:\u001b[0m 0\n"
     ]
    },
    {
     "name": "stderr",
     "output_type": "stream",
     "text": [
      "C:\\Users\\Unai\\anaconda3\\envs\\bspy\\lib\\site-packages\\IPython\\core\\interactiveshell.py:3465: UserWarning: To exit: use 'exit', 'quit', or Ctrl-D.\n",
      "  warn(\"To exit: use 'exit', 'quit', or Ctrl-D.\", stacklevel=1)\n"
     ]
    }
   ],
   "source": [
    "consistency_check(data_dir_t, repetitions=10, model=p)"
   ]
  },
  {
   "cell_type": "code",
   "execution_count": null,
   "id": "1bf1a2d6",
   "metadata": {},
   "outputs": [],
   "source": []
  }
 ],
 "metadata": {
  "kernelspec": {
   "display_name": "Python 3 (ipykernel)",
   "language": "python",
   "name": "python3"
  },
  "language_info": {
   "codemirror_mode": {
    "name": "ipython",
    "version": 3
   },
   "file_extension": ".py",
   "mimetype": "text/x-python",
   "name": "python",
   "nbconvert_exporter": "python",
   "pygments_lexer": "ipython3",
   "version": "3.8.0"
  }
 },
 "nbformat": 4,
 "nbformat_minor": 5
}
